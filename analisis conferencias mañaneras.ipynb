{
 "nbformat": 4,
 "nbformat_minor": 5,
 "metadata": {
  "kernelspec": {
   "display_name": "Python 3",
   "language": "python",
   "name": "python3"
  },
  "language_info": {
   "codemirror_mode": {
    "name": "ipython",
    "version": 3
   },
   "file_extension": ".py",
   "mimetype": "text/x-python",
   "name": "python",
   "nbconvert_exporter": "python",
   "pygments_lexer": "ipython3",
   "version": "3.8.5"
  },
  "colab": {
   "name": "andrea_quintanilla_carranza.ipynb",
   "provenance": []
  }
 },
 "cells": [
  {
   "cell_type": "markdown",
   "metadata": {
    "id": "sharing-purchase"
   },
   "source": [
    "Análisis Básico de Conferencias Mañaneras\n",
    "\n",
    "Andrea Quintanilla Carranza\n",
    "\n"
   ],
   "id": "sharing-purchase"
  },
  {
   "cell_type": "markdown",
   "metadata": {
    "id": "still-serve"
   },
   "source": [
    "I.Construcción de corpus. \n",
    "\n",
    "Link a la carpeta: https://drive.google.com/drive/folders/1yryhmmrJmSHbMLKY2xLRkk3tbeejCMkM?usp=sharing"
   ],
   "id": "still-serve"
  },
  {
   "cell_type": "markdown",
   "metadata": {
    "id": "corresponding-strand"
   },
   "source": [
    "II. Vistazo de Datos"
   ],
   "id": "corresponding-strand"
  },
  {
   "cell_type": "code",
   "metadata": {
    "id": "transsexual-summer"
   },
   "source": [
    "import nltk\n",
    "import wget\n",
    "import glob"
   ],
   "id": "transsexual-summer",
   "execution_count": null,
   "outputs": []
  },
  {
   "cell_type": "code",
   "metadata": {
    "id": "cUER0IDuXSQL",
    "executionInfo": {
     "status": "ok",
     "timestamp": 1613019997738,
     "user_tz": 360,
     "elapsed": 683,
     "user": {
      "displayName": "Adrian Pastor López Monroy",
      "photoUrl": "https://lh3.googleusercontent.com/a-/AOh14GhIf0gdMo87Qi7Ovv-HW6zsF9yea1FD5o5Xqc6j=s64",
      "userId": "05921212639133640233"
     }
    }
   },
   "source": [
    "import nltk\n",
    "import glob\n",
    "\n",
    "reg_exp = '[A-Z]\\w+|[a-z]\\w+'  # Expresión regular para palabras con minúsculas y mayúsculas\n",
    "tokenizer = nltk.RegexpTokenizer(reg_exp) # Tokenizador"
   ],
   "id": "cUER0IDuXSQL",
   "execution_count": 6,
   "outputs": []
  },
  {
   "cell_type": "code",
   "metadata": {
    "id": "wireless-handbook"
   },
   "source": [
    "clean_folder = \"./esteneograficas_limpias_por_fecha/\"\n",
    "\n",
    "words = []  # String con todas las palabras\n",
    "\n",
    "reg_exp = '[A-Z]\\w+|[a-z]\\w+'  # Expresión regular para palabras con minúsculas y mayúsculas\n",
    "tokenizer = nltk.RegexpTokenizer(reg_exp) # Tokenizador\n",
    "\n",
    "# Lectura y tokenización de conferencias:\n",
    "\n",
    "for f_page in glob.glob(clean_folder + \"*\"):\n",
    "    words += tokenizer.tokenize(open(f_page, \"r\", encoding=\"utf-8\").read())\n",
    "    "
   ],
   "id": "wireless-handbook",
   "execution_count": null,
   "outputs": []
  },
  {
   "cell_type": "markdown",
   "metadata": {
    "id": "western-sleeve"
   },
   "source": [
    "1. Cargue todas las conferencias en un string y aplique la función split para generar tokens fácilmente."
   ],
   "id": "western-sleeve"
  },
  {
   "cell_type": "code",
   "metadata": {
    "id": "level-french"
   },
   "source": [
    "clean_folder = \"./esteneograficas_limpias_por_fecha/\"    # Carpeta con fechas limpias\n",
    "\n",
    "tokens = []  # String con todas las conferencias limpias\n",
    "\n",
    "# Lectura y tokenización de conferencias:\n",
    "\n",
    "for f_page in glob.glob(clean_folder + \"*\"):  # glob.glob regresa todos las direcciones de todos los archivos de esa carpeta\n",
    "    tokens += open(f_page, \"r\", encoding=\"utf-8\").read().split()\n",
    "    "
   ],
   "id": "level-french",
   "execution_count": null,
   "outputs": []
  },
  {
   "cell_type": "markdown",
   "metadata": {
    "id": "exclusive-census"
   },
   "source": [
    "2. Mida la cantidad de palabras en todas las conferencias."
   ],
   "id": "exclusive-census"
  },
  {
   "cell_type": "code",
   "metadata": {
    "id": "medieval-touch",
    "outputId": "293df5f9-0225-4631-95d5-e345c123b77b"
   },
   "source": [
    "print(\"Conteo total de palabras\")\n",
    "num_tokens = len(tokens)\n",
    "print(num_tokens)\n"
   ],
   "id": "medieval-touch",
   "execution_count": null,
   "outputs": [
    {
     "output_type": "stream",
     "text": [
      "Conteo total de palabras\n",
      "5500305\n"
     ],
     "name": "stdout"
    }
   ]
  },
  {
   "cell_type": "markdown",
   "metadata": {
    "id": "rural-egypt"
   },
   "source": [
    "3. Extraer el vocabulario y mostrar su longitud."
   ],
   "id": "rural-egypt"
  },
  {
   "cell_type": "code",
   "metadata": {
    "id": "varying-nursery",
    "outputId": "07bdf6b4-2aed-4ae5-a460-2f6e90b4b66b"
   },
   "source": [
    "print(\"Conteo vocabulario\")\n",
    "num_unique_tokens = len(set(tokens))\n",
    "print(num_unique_tokens)\n"
   ],
   "id": "varying-nursery",
   "execution_count": null,
   "outputs": [
    {
     "output_type": "stream",
     "text": [
      "Conteo vocabulario\n",
      "139661\n"
     ],
     "name": "stdout"
    }
   ]
  },
  {
   "cell_type": "markdown",
   "metadata": {
    "id": "nuclear-volume"
   },
   "source": [
    "4. Mida la riqueza del vocabulario de alguna forma en todos los documentos.\n",
    "\n",
    "Cada palabra es utlizada, en promedio, 39 veces en las conferencias"
   ],
   "id": "nuclear-volume"
  },
  {
   "cell_type": "code",
   "metadata": {
    "id": "quarterly-mercury",
    "outputId": "ce958daf-ece3-4a0c-95a4-e9a18a185c48"
   },
   "source": [
    "print(\"Riqueza léxica\")\n",
    "lexical_diversity = num_tokens / num_unique_tokens  \n",
    "print(lexical_diversity) \n"
   ],
   "id": "quarterly-mercury",
   "execution_count": null,
   "outputs": [
    {
     "output_type": "stream",
     "text": [
      "Riqueza léxica\n",
      "39.38325659990978\n"
     ],
     "name": "stdout"
    }
   ]
  },
  {
   "cell_type": "markdown",
   "metadata": {
    "id": "center-payday"
   },
   "source": [
    "5. Haga lo mismo que los 4 puntos anteriores pero con todo el texto en minúsculas. Vea las diferencias.\n",
    "\n",
    "Se observa que la riqueza léxica diminuyó al considerar únicamente palabra minúsculas. Ahora, cada palabra es utlizada en promedio 42 veces "
   ],
   "id": "center-payday"
  },
  {
   "cell_type": "code",
   "metadata": {
    "id": "revolutionary-singles"
   },
   "source": [
    "min_tokens = [word.lower() for word in tokens]  # String con todas las conferencias limpias y en minúsculas\n"
   ],
   "id": "revolutionary-singles",
   "execution_count": null,
   "outputs": []
  },
  {
   "cell_type": "code",
   "metadata": {
    "id": "living-multiple",
    "outputId": "16b43fa2-bb93-419b-8a3d-710b5744d4ab"
   },
   "source": [
    "# Cantidad total de tokens en las conferencias\n",
    "\n",
    "print(\"Conteo total de palabras\")\n",
    "num_tokens = len(min_tokens)\n",
    "print(num_tokens)\n",
    "\n",
    "\n",
    "# Contar vocabulario: cantidad de tokens distintos en las conferencias\n",
    "\n",
    "print(\"Conteo vocabulario\")\n",
    "num_unique_tokens = len(set(min_tokens))\n",
    "print(num_unique_tokens)\n",
    "\n",
    "\n",
    "# Riqueza léxica del vocabulario. \n",
    "# Nota. Se recomienda utlizar esta medida sólo para comparar textos de la misma longitud\n",
    "\n",
    "print(\"Riqueza léxica\")\n",
    "lexical_diversity = num_tokens / num_unique_tokens  # Cada palabra es utlizada en promedio, lexical_diversity veces en las conferencias\n",
    "print(lexical_diversity)"
   ],
   "id": "living-multiple",
   "execution_count": null,
   "outputs": [
    {
     "output_type": "stream",
     "text": [
      "Conteo total de palabras\n",
      "5500305\n",
      "Conteo vocabulario\n",
      "128883\n",
      "Riqueza léxica\n",
      "42.676730057494005\n"
     ],
     "name": "stdout"
    }
   ]
  },
  {
   "cell_type": "markdown",
   "metadata": {
    "id": "postal-escape"
   },
   "source": [
    "6. Haga lo mismo que los puntos 1, 2 y 3 usando el tokenizador RegExp de NLTK, con una expresión regular que trate de sacar solo palabras que pueden contener solo mayúsculas y minúsculas. Después cargue los tokens en un objeto Text de NLTK en lugar de una lista de Python."
   ],
   "id": "postal-escape"
  },
  {
   "cell_type": "code",
   "metadata": {
    "id": "sensitive-burner"
   },
   "source": [
    "words = []  # String con todas las palabras\n",
    "\n",
    "reg_exp = '[A-Z]\\w+|[a-z]\\w+'  # Expresión regular para palabras con minúsculas y mayúsculas\n",
    "tokenizer = nltk.RegexpTokenizer(reg_exp)\n",
    "\n",
    "\n",
    "# Lectura y tokenización de conferencias:\n",
    "\n",
    "for f_page in glob.glob(clean_folder + \"*\"):\n",
    "    words += tokenizer.tokenize(open(f_page, \"r\", encoding=\"utf-8\").read())\n",
    "    \n"
   ],
   "id": "sensitive-burner",
   "execution_count": null,
   "outputs": []
  },
  {
   "cell_type": "code",
   "metadata": {
    "id": "tired-mining",
    "outputId": "05ab34df-18c1-4f94-e2be-e521cad7ef1d"
   },
   "source": [
    "\n",
    "# Cantidad total de palabras en las conferencias\n",
    "\n",
    "print(\"Conteo total de palabras\")\n",
    "num_tokens = len(words)\n",
    "print(num_tokens)\n",
    "\n",
    "\n",
    "# Contar vocabulario: cantidad de tokens distintos en las conferencias\n",
    "\n",
    "print(\"Conteo vocabulario\")\n",
    "num_unique_tokens = len(set(words))\n",
    "print(num_unique_tokens)\n",
    "\n",
    "\n",
    "# Riqueza léxica del vocabulario. \n",
    "\n",
    "print(\"Riqueza léxica\")\n",
    "lexical_diversity = num_tokens / num_unique_tokens  # Cada palabra es utlizada en promedio, __ veces en las conferencias\n",
    "print(lexical_diversity)\n"
   ],
   "id": "tired-mining",
   "execution_count": null,
   "outputs": [
    {
     "output_type": "stream",
     "text": [
      "Conteo total de palabras\n",
      "5130580\n",
      "Conteo vocabulario\n",
      "64739\n",
      "Riqueza léxica\n",
      "79.25022011461407\n"
     ],
     "name": "stdout"
    }
   ]
  },
  {
   "cell_type": "code",
   "metadata": {
    "id": "authorized-artwork"
   },
   "source": [
    "# Descarga de tokens en objeto tipo Text (class 'nltk.text.Text')\n",
    "\n",
    "t_words = nltk.Text(words)\n"
   ],
   "id": "authorized-artwork",
   "execution_count": null,
   "outputs": []
  },
  {
   "cell_type": "markdown",
   "metadata": {
    "id": "integral-stuart"
   },
   "source": [
    "7. Haga todo el texto minúsculas. Haga los mismo que los puntos 1, 2, y 3 usando el tokenizador TweetTokenizer. Haga el resto de esta tarea asumiendo haber hecho este punto."
   ],
   "id": "integral-stuart"
  },
  {
   "cell_type": "code",
   "metadata": {
    "id": "prostate-dress"
   },
   "source": [
    "\n",
    "tokens = []  # String con todas las palabras\n",
    "\n",
    "tokenizer = nltk.TweetTokenizer()\n",
    "\n",
    "# Lectura y tokenización de conferencias:\n",
    "\n",
    "for f_page in glob.glob(clean_folder + \"*\"):\n",
    "    tokens += tokenizer.tokenize(open(f_page, \"r\", encoding=\"utf-8\").read())\n"
   ],
   "id": "prostate-dress",
   "execution_count": null,
   "outputs": []
  },
  {
   "cell_type": "code",
   "metadata": {
    "id": "operating-uruguay"
   },
   "source": [
    "# Descarga de tokens en objeto tipo Text (class 'nltk.text.Text') en minúsculas\n",
    "\n",
    "t_min_words = [tok.lower() for tok in tokens]\n",
    "t_min_words = nltk.Text(t_min_words)\n"
   ],
   "id": "operating-uruguay",
   "execution_count": null,
   "outputs": []
  },
  {
   "cell_type": "code",
   "metadata": {
    "id": "right-career",
    "outputId": "0c50b5e2-1e35-4976-be4b-8c9c131dd2bc"
   },
   "source": [
    "\n",
    "# Cantidad total de palabras en las conferencias\n",
    "\n",
    "print(\"Conteo total de palabras\")\n",
    "num_tokens = len(t_min_words)\n",
    "print(num_tokens)\n",
    "\n",
    "\n",
    "# Contar vocabulario: cantidad de tokens distintos en las conferencias\n",
    "\n",
    "print(\"Conteo vocabulario\")\n",
    "num_unique_tokens = len(set(t_min_words))\n",
    "print(num_unique_tokens)\n",
    "\n",
    "\n",
    "# Riqueza léxica del vocabulario.\n",
    "\n",
    "print(\"Riqueza léxica\")\n",
    "lexical_diversity = num_tokens / num_unique_tokens \n",
    "print(lexical_diversity)"
   ],
   "id": "right-career",
   "execution_count": null,
   "outputs": [
    {
     "output_type": "stream",
     "text": [
      "Conteo total de palabras\n",
      "6342348\n",
      "Conteo vocabulario\n",
      "61148\n",
      "Riqueza léxica\n",
      "103.72126643553347\n"
     ],
     "name": "stdout"
    }
   ]
  },
  {
   "cell_type": "markdown",
   "metadata": {
    "id": "wired-review"
   },
   "source": [
    "III. Funciones NLTK"
   ],
   "id": "wired-review"
  },
  {
   "cell_type": "code",
   "metadata": {
    "id": "acute-indonesian"
   },
   "source": [
    "import vistazo_datos \n",
    "import glob\n",
    "import nltk\n"
   ],
   "id": "acute-indonesian",
   "execution_count": null,
   "outputs": []
  },
  {
   "cell_type": "markdown",
   "metadata": {
    "id": "intimate-buying"
   },
   "source": [
    "1. Use la función concordance para ver el contexto de 5 palabras que usted elija."
   ],
   "id": "intimate-buying"
  },
  {
   "cell_type": "code",
   "metadata": {
    "id": "hidden-conducting",
    "outputId": "a60f5ae7-ddf5-4e6b-e104-619911c286ce"
   },
   "source": [
    "t_words = vistazo_datos.t_min_words  # Text en minúsculas y tokenizado como tweet (obtenido en el último punto de la sección Vistazo datos) \n",
    "\n",
    "# Palabras seleccionadas \n",
    "some_words = [\"corrupción\", \"pobreza\", \"feminicidio\", \"ecología\", \"indígena\", \"empleo\"]\n",
    "\n",
    "\n",
    "# Palabras con su contexto:\n",
    "\n",
    "for word in some_words:\n",
    "    print(\"Palabra \", word, \" en contexto:\")\n",
    "    print(t_words.concordance(word))"
   ],
   "id": "hidden-conducting",
   "execution_count": null,
   "outputs": [
    {
     "output_type": "stream",
     "text": [
      "Palabra  corrupción  en contexto:\n",
      "Displaying 25 of 5066 matches:\n",
      " ejemplo de cómo combatiendo a la corrupción , que muchos han soslayado , tole\n",
      " variables , como acabando con la corrupción se puede tener una economía fuert\n",
      "evaluaciones incluyan el nivel de corrupción de los gobiernos del mundo , porq\n",
      "co , bien definido y si impera la corrupción en un país al final de cuentas la\n",
      "o de méxico , de cómo dominaba la corrupción y por eso estamos nosotros pagand\n",
      "dójicas que tienen que ver con la corrupción , de repente esa misma planta se \n",
      "error menor en comparación con la corrupción , que fue el distintivo del model\n",
      "al , o sea , el distintivo fue la corrupción , pero otro error menor , en comp\n",
      "ror menor , en comparación con la corrupción , desde luego , fue el de la falt\n",
      "ón hay que , así como hablamos de corrupción y de impunidad , la cuestión de c\n",
      "as se dejan establecidos actos de corrupción en los primeros meses de vicente \n",
      "on honestidad y el no permitir la corrupción . mañana lo podemos ver para refr\n",
      "que nunca más se repitan actos de corrupción , y es lo que estamos haciendo . \n",
      "ros tenemos el compromiso de cero corrupción , cero impunidad , pero en funció\n",
      "de manera conjunta a desterrar la corrupción en pemex y en la comisión federal\n",
      " transformar , para acabar con la corrupción , con la impunidad , para que se \n",
      " cambió algo en este combate a la corrupción y a los expresidentes ? ¿ qué pie\n",
      " ya podría hasta decir que no hay corrupción arriba tolerada , ya podría decir\n",
      " es fácil , pero ya arriba no hay corrupción . y eso no es poca cosa , porque \n",
      "e , inservibles , pero era por la corrupción . entonces , ahora estamos buscan\n",
      "sto se aplique bien , que no haya corrupción y que se actúe con más eficiencia\n",
      "cambie , que se pueda castigar la corrupción y gobernar con el ejemplo , y que\n",
      " ejemplo , y que sea mal vista la corrupción , que podamos estigmatizar la cor\n",
      "ión , que podamos estigmatizar la corrupción , aunque no les guste a mis adver\n",
      " , que el que tenga una mancha de corrupción no se la pueda quitar ni con toda\n",
      "None\n",
      "Palabra  pobreza  en contexto:\n",
      "Displaying 25 of 505 matches:\n",
      "comunidades apartadas donde hay más pobreza , donde se necesita más , pues se r\n",
      "jol con gorgojo , el tráfico con la pobreza de la gente , la política clientela\n",
      " su situación , su circunstancia de pobreza , no tienen para pagar sus fianzas \n",
      "e . si en la casa hay problemas por pobreza , por desintegración familiar , el \n",
      ", de quién está en una situación de pobreza . entonces , cerrar la puerta , rec\n",
      "de la desigualdad económica , de la pobreza , de la inseguridad , de la violenc\n",
      "l pueblo de méxico , habiendo tanta pobreza , tanta necesidad , no se puede via\n",
      "as de que se presente el informe de pobreza . presidente andrés manuel lópez ob\n",
      "y es el instituto que mide lo de la pobreza . entonces , ese fue el cambio , el\n",
      "es de trabajo , vamos a sacar de la pobreza a millones de mexicanos . ese es el\n",
      "sas , claro que vamos a combatir la pobreza y nos vamos a sentir todos muy sati\n",
      "o , bienestar , vamos a sacar de la pobreza a millones de mexicanos , la clave \n",
      "uatro por ciento , para sacar de la pobreza a millones de mexicanos , para que \n",
      "ierno . porque queremos sacar de la pobreza al pueblo . ¿ por qué hay inconform\n",
      "na que se encuentra en condición de pobreza . las personas mayores de 68 años t\n",
      "s que se encuentren en condición de pobreza para garantizar la equidad y el der\n",
      "s que se encuentren en condición de pobreza nunca podrá ser disminuido en térmi\n",
      " de algo que mitigue su hambre , su pobreza y también por la violencia . entonc\n",
      "uscar trabajo y algo que mitigue su pobreza , y ahora nos envían estas remesas \n",
      "de méxico . esa es la riqueza de la pobreza , que siempre se ha despreciado . e\n",
      " porque se podía conmover viendo la pobreza y si se le pedía algo podía ceder ,\n",
      "relación a la población que está en pobreza , que es alrededor del 60 por cient\n",
      "s d e60 millones de mexicanos en la pobreza ! entonces , es que todos ayudemos \n",
      "ar . la mayoría de los casos es por pobreza , es por falta de oportunidades de \n",
      "e los estados con más marginación y pobreza , pero ya en chiapas - lo que pasa \n",
      "None\n",
      "Palabra  feminicidio  en contexto:\n",
      "Displaying 25 of 212 matches:\n",
      "tención a mujeres maltratadas , a feminicidio , a niños de la calle , a persona\n",
      "de seguridad sobre los delitos de feminicidio y las agresiones contra las mujer\n",
      "nución en muchos ; en el caso del feminicidio muy poco es la disminución , o se\n",
      ". y no hemos podido disminuir más feminicidio . sí , aquí están . homicidio dol\n",
      "niñas , a mujeres , en contra del feminicidio y estamos trabajando todos los dí\n",
      "gar algunos tipos de delitos , el feminicidio . ¿ esto se podría dar o no lo ve\n",
      "ste espiral llegue a cometerse un feminicidio . ya es un tema de la mesa de seg\n",
      " también por supuesto va a ser el feminicidio . entonces , yo sí quisiera que n\n",
      "iral , pues puede llegar a ser un feminicidio . entonces , la prevención es lo \n",
      "iliar : violencia intrafamiliar , feminicidio , maltrato infantil , violaciones\n",
      "sto es . entonces , en el caso de feminicidio , miren , 68-66 , muy poquita la \n",
      "anteas , y a lo mejor en ese caso feminicidio está arriba , pero homicidio está\n",
      " mucho sufrimiento , igual que el feminicidio , igual que el secuestro , bueno \n",
      " el 25 , ambos hacia la baja . el feminicidio , coahuila el 13 lugar hacia la b\n",
      " donde puede resultar un hecho de feminicidio , porque no todas las mujeres que\n",
      "s características de lo que es el feminicidio , que son crímenes de odio , que \n",
      "s no vinculatorios a lo que es el feminicidio y todos los días lo vemos . inter\n",
      "s del gobernador para combatir el feminicidio en el estado de méxico ? porque p\n",
      "loso , secuestro , narcomenudeo , feminicidio , trata de personas , robo de veh\n",
      "ién con una tendencia a la baja . feminicidio el segundo lugar , aquí también p\n",
      "obo total , menos 22 por ciento ; feminicidio 5.4 , al alza ; extorsión , menos\n",
      "tes y lesivas , como puede ser el feminicidio , como puede ser el homicidio , p\n",
      "que las cifras de , por ejemplo , feminicidio infantil hayan aumentado . no pod\n",
      "cer una auditoria de los casos de feminicidio , violencia sexual , violencia fa\n",
      "ndo homologar la investigación de feminicidio , las órdenes de protección , la \n",
      "None\n",
      "Palabra  ecología  en contexto:\n",
      "Displaying 14 of 14 matches:\n",
      "después del 2007 a un instituto de ecología , que por cierto no ha hecho nada \n",
      "esidente . de la revista energía y ecología , manuel díaz gómez . tengo tres p\n",
      "egunda . secretaria , en energía y ecología hemos recogido durante muchos mese\n",
      "do , la ecopedagogía aclara que la ecología está un tanto cuanto mal enfocada \n",
      " un avance en el tratamiento de la ecología , o sea , lo mejor es no hacer bas\n",
      "de 800 hectáreas para el arte , la ecología , porque precisamente ahí en el te\n",
      " no procede , afecta las normas de ecología , de respeto al medio ambiente . e\n",
      " en el sentido natural , como a la ecología humana , en donde dos especies , l\n",
      " salud humana , en la vida y en la ecología . recientemente vimos un problema \n",
      "e la materia , de la materia de la ecología , del medio ambiente , además de e\n",
      "do por años , son defensores de la ecología , aquí lo expuse . usted había dad\n",
      "ir con la naturaleza y defender la ecología . uno más y ya . pregunta : gracia\n",
      "n todo lo que tiene que ver con la ecología en todo este tiempo . hay ahora má\n",
      "eforestación , para restablecer la ecología , el medio ambiente ; para produci\n",
      "None\n",
      "Palabra  indígena  en contexto:\n",
      "Displaying 25 of 181 matches:\n",
      "itlán , es la primaria comunitaria indígena de quiantepec . se llevó a cabo el\n",
      " , primaria ; primaria comunitaria indígena en zoquitlán , puebla ; y de la vi\n",
      ", el voto , la participación de un indígena , de un campesino , de un obrero ,\n",
      "lo , o en cualquier otro pueblo no indígena , sólo es hasta 29 años , es niñas\n",
      "d adam , ¿ sí supo usted ? , es un indígena kumiai que fue asesinado , mañana \n",
      "ora fernanda lópez collazo , mujer indígena , de lengua tzotzil que en el desl\n",
      "mero averiguación 167/2013 , mujer indígena que ingresó al cereso número 5 de \n",
      "martha hernández hernández , mujer indígena que es de la huasteca potosina . d\n",
      "martha hernández hernández , mujer indígena de la huasteca potosina , le diero\n",
      "lejo , se supo que había una mujer indígena que estaba contendiendo para la se\n",
      "eguro que , en el caso de la mujer indígena presa se puede buscar la forma , s\n",
      "lanca , guanajuato , es una región indígena , y mañana también a comunidades i\n",
      " el voto de un potentado que de un indígena , de un campesino , cuenta lo mism\n",
      " la calle de acceso a la comunidad indígena santiago de pochotitán , y los vam\n",
      "mexicano del siglo xix , de origen indígena , y es un reconocimiento que otorg\n",
      "s compañeros maestros de educación indígena y del magisterio oaxaqueño en gene\n",
      "uelas multigrado y en la educación indígena . en términos de educación indígen\n",
      "ndígena . en términos de educación indígena hay un deficiente programa de form\n",
      "n de maestros que hablen la lengua indígena de la comunidad donde trabajan , p\n",
      "r a que se fortalezca la educación indígena y que los contenidos , como lo ha \n",
      "que existe el sistema de educación indígena desde hace mucho tiempo . maestros\n",
      "lerato dos millones , en educación indígena un millón 200 mil , en inglés para\n",
      "teriores , los libros de educación indígena venían distribuyéndose en octubre \n",
      " que el tratamiento a la educación indígena sea en este sentido equitativa . p\n",
      "rigieron a las zonas con presencia indígena . como ustedes saben , es otro de \n",
      "None\n",
      "Palabra  empleo  en contexto:\n",
      "Displaying 25 of 554 matches:\n",
      "yor enfásis aún al crecimiento , al empleo e incrementar la competitividad . l\n",
      "rediente , no vamos a poder generar empleo inherente al cuatro por ciento de m\n",
      "del seguro social de una baja en el empleo de casi , estamos hablando del 50 p\n",
      " . esto es en lo que corresponde al empleo . dices : ‘ el consumo ’ , no de ma\n",
      "ores por los cuales no se ha creado empleo . más allá de los expertos el tce y\n",
      " ¿ cómo está habiendo esta cifra de empleo ? , es decir , nos presenta ahora l\n",
      " para que se muevan , se les ofrece empleo . hasta ahora lo que hemos logrado \n",
      " lo que hemos logrado es que tengan empleo en el norte menos de dos mil ; no q\n",
      "norte menos de dos mil ; no quieren empleo , la mayoría no lo han aceptado , p\n",
      "rcado va a garantizar crecimiento , empleo , bienestar , porque si llueve fuer\n",
      "s armadas y , digamos , su uso o su empleo en buena lid para diversos rubros d\n",
      " va a generar mucho trabajo , mucho empleo . lo del istmo también ya está por \n",
      "nte en el aspecto de que no les dan empleo , de igual manera a las personas qu\n",
      "nas ya readaptadas que no se les da empleo , porque ya tienen antecedentes pen\n",
      "o , que vamos a procurar que tengan empleo , además , por su experiencia . y l\n",
      "y tenemos que cuidar las fuentes de empleo , ir actuando con responsabilidad y\n",
      "e la ciudad , y haya trabajo , haya empleo y se fortalezca el mercado interno \n",
      "seguridad y la violencia , que haya empleo , que haya bienestar , que haya fel\n",
      " bienestar y que haya crecimiento , empleo y comenzar a serenar al país , enfr\n",
      "haber crecimiento , que iba a haber empleo y que si llovía fuerte arriba , iba\n",
      " de compra , el poder adquisitivo , empleo , distribución de riqueza , acceso \n",
      "ecía yo en el caso de las cifras de empleo del seguro social , si no se toma e\n",
      "por eso , pero la medición es sobre empleo , no de seguridad social . bueno , \n",
      " , los jóvenes pagan una cuota para empleo y no están … digo , para la segurid\n",
      "ciones durante estos dos meses , un empleo de ocho mil 10 elementos , 565 vehí\n",
      "None\n"
     ],
     "name": "stdout"
    }
   ]
  },
  {
   "cell_type": "markdown",
   "metadata": {
    "id": "experienced-hearts"
   },
   "source": [
    "2. Elija una palabra que le parezca interesante y muestre palabras con uso similar. Muestre también los contextos comunes."
   ],
   "id": "experienced-hearts"
  },
  {
   "cell_type": "code",
   "metadata": {
    "id": "bridal-arizona",
    "outputId": "645f09fd-4836-474e-a2de-f06de9e77a56"
   },
   "source": [
    "# Palabra interesante con palabras que aparecen en contextos similares:\n",
    "\n",
    "inter_word = \"narcotráfico\" # Palabra interesante \n",
    "print(\"Similar:\")\n",
    "print(t_words.similar(inter_word))\n",
    "\n",
    "\n"
   ],
   "id": "bridal-arizona",
   "execution_count": null,
   "outputs": [
    {
     "output_type": "stream",
     "text": [
      "Similar:\n",
      "gobierno país estado pueblo presidente año covid que bienestar tema\n",
      "día tiempo mundo dinero extranjero trabajo agua programa presupuesto\n",
      "desarrollo\n",
      "None\n"
     ],
     "name": "stdout"
    }
   ]
  },
  {
   "cell_type": "code",
   "metadata": {
    "id": "illegal-board",
    "outputId": "f8a3c7e1-61f6-43fa-b266-ba04b664ef9e"
   },
   "source": [
    "# Contextos que comparte la palabra interesante con las similares:\n",
    "\n",
    "sim_words = [\"país\", \"gobierno\", \"presidente\", \"pueblo\", \"año\", \"covid\", \"dinero\", \"que\", \"tema\", \"día\",\n",
    "\"extranjero\", \"presupuesto\", \"programa\", \"tiempo\", \"mundo\", \"agua\", \"trabajo\", \"bienestar\", \"desarrollo\"] # Palabras resultantes de la búsqueda anterior\n",
    "\n",
    "for word in sim_words:\n",
    "    print(\"Contextos compartidos entre \", inter_word + \" y \" + word + \":\")\n",
    "    print(t_words.common_contexts([inter_word, word]))\n"
   ],
   "id": "illegal-board",
   "execution_count": null,
   "outputs": [
    {
     "output_type": "stream",
     "text": [
      "Contextos compartidos entre  narcotráfico y país:\n",
      "al_y el_y el_que al_no del_en al_en el_presidente del_de al_que al_se\n",
      "el_pero del_y el_en el_de del_pero del_como al_al del_es del_se el_no\n",
      "None\n",
      "Contextos compartidos entre  narcotráfico y gobierno:\n",
      "al_y el_y el_que al_no de_y del_en al_en el_presidente del_de al_que\n",
      "al_se el_pero del_y el_en el_de del_pero del_como al_al del_es del_se\n",
      "None\n",
      "Contextos compartidos entre  narcotráfico y presidente:\n",
      "al_y el_y el_que al_no de_y del_en al_en el_presidente del_de al_que\n",
      "al_se el_pero del_y el_en el_de del_pero del_como al_al del_es del_se\n",
      "None\n",
      "Contextos compartidos entre  narcotráfico y pueblo:\n",
      "al_y el_y el_que al_no de_y del_en al_en el_presidente del_de al_que\n",
      "al_se el_pero del_y el_en el_de del_pero del_como al_al del_es del_se\n",
      "None\n",
      "Contextos compartidos entre  narcotráfico y año:\n",
      "al_y el_y el_que al_no de_y del_en al_en el_presidente del_de al_que\n",
      "al_se el_pero del_y el_en el_de del_pero del_como al_al del_es del_se\n",
      "None\n",
      "Contextos compartidos entre  narcotráfico y covid:\n",
      "al_y el_y el_que al_no de_y del_en el_presidente del_de al_que al_se\n",
      "el_pero del_y el_en el_de del_pero del_como del_se el_no al_a\n",
      "al_presidente\n",
      "None\n",
      "Contextos compartidos entre  narcotráfico y dinero:\n",
      "al_y el_y el_que de_y del_en al_en el_presidente del_de al_que el_pero\n",
      "del_y el_en el_de del_pero al_al del_es del_se el_no al_a el_esto\n",
      "None\n",
      "Contextos compartidos entre  narcotráfico y que:\n",
      "al_no de_y del_en al_en el_presidente del_de al_se el_en el_de\n",
      "del_como al_al del_es del_se el_no el_esto el_la el_desde de_las\n",
      "con_no al_me\n",
      "None\n",
      "Contextos compartidos entre  narcotráfico y tema:\n",
      "al_y el_y el_que al_no del_en al_en el_presidente del_de al_que al_se\n",
      "el_pero del_y el_en el_de del_pero del_como al_al del_es del_se el_no\n",
      "None\n",
      "Contextos compartidos entre  narcotráfico y día:\n",
      "al_y el_y el_que al_no de_y del_en al_en el_presidente del_de al_que\n",
      "al_se el_pero del_y el_en el_de del_pero del_como al_al del_es del_se\n",
      "None\n",
      "Contextos compartidos entre  narcotráfico y extranjero:\n",
      "al_y el_y el_que al_no de_y del_en al_en el_presidente del_de al_que\n",
      "al_se el_pero del_y el_en el_de del_pero del_como al_al del_es del_se\n",
      "None\n",
      "Contextos compartidos entre  narcotráfico y presupuesto:\n",
      "al_y el_y el_que de_y del_en el_presidente del_de al_que al_se el_pero\n",
      "del_y el_en el_de del_pero del_como del_es del_se el_no al_a el_esto\n",
      "None\n",
      "Contextos compartidos entre  narcotráfico y programa:\n",
      "al_y el_y el_que al_no de_y del_en al_en el_presidente del_de al_que\n",
      "el_pero del_y el_en el_de del_pero del_como al_al del_es del_se el_no\n",
      "None\n",
      "Contextos compartidos entre  narcotráfico y tiempo:\n",
      "al_y el_y el_que de_y del_en el_presidente del_de al_que el_pero del_y\n",
      "el_en el_de del_pero del_como del_es del_se el_no el_esto el_para\n",
      "el_la\n",
      "None\n",
      "Contextos compartidos entre  narcotráfico y mundo:\n",
      "al_y el_y el_que de_y del_en al_en el_presidente del_de al_que el_pero\n",
      "del_y el_en el_de del_pero del_como del_es del_se el_no al_a el_esto\n",
      "None\n",
      "Contextos compartidos entre  narcotráfico y agua:\n",
      "al_y el_y el_que de_y del_en al_en el_presidente del_de al_que al_se\n",
      "el_pero del_y el_en el_de del_pero del_como del_es del_se el_no al_a\n",
      "None\n",
      "Contextos compartidos entre  narcotráfico y trabajo:\n",
      "al_y el_y el_que de_y del_en al_en del_de al_que el_pero del_y el_en\n",
      "el_de del_pero del_como al_al del_es del_se el_no al_a el_esto\n",
      "None\n",
      "Contextos compartidos entre  narcotráfico y bienestar:\n",
      "al_y el_y el_que de_y del_en el_presidente del_de al_que el_pero del_y\n",
      "el_en el_de del_pero del_como del_es del_se el_no al_a el_esto el_para\n",
      "None\n",
      "Contextos compartidos entre  narcotráfico y desarrollo:\n",
      "al_y el_y el_que de_y del_en al_en el_presidente del_de al_se el_pero\n",
      "del_y el_en el_de del_es el_no el_esto el_para el_la el_desde de_las\n",
      "None\n"
     ],
     "name": "stdout"
    }
   ]
  },
  {
   "cell_type": "markdown",
   "metadata": {
    "id": "thirty-equality"
   },
   "source": [
    "3. Haciendo uso de alguna librerı́a time de Python: organice todos los archivos de las conferencias desde la más antigua hasta la más nueva, y cárguelos en un objeto Text para generar un dispersion plot de las siguientes palabras: prian, corrupción, mafia, narco, gasolina, pipas, conacyt, ciencia, turismo, pandemia, coronavirus, covid y otras tres palabras de su elección."
   ],
   "id": "thirty-equality"
  },
  {
   "cell_type": "code",
   "metadata": {
    "id": "cathedral-norfolk"
   },
   "source": [
    "# Ordenar archivos por fecha (antiguo -> reciente):\n",
    "\n",
    "from datetime import datetime\n",
    "\n",
    "# Crea lista con slices de nombres de archivos de tal manera que la fecha de conferencia aparezca en todos los casos\n",
    "\n",
    "s_dates = [date[-14:] for date in glob.glob(\"./esteneograficas_limpias_por_fecha/*\")]\n",
    "\n",
    "\n",
    "# Conversión a tipo datetime:\n",
    "\n",
    "dates = []  # Lista con todas las fechas\n",
    "second_dates = []  # Lista con fechas que tienen una segunda aparición\n",
    "third_dates = []  # Lista con fechas que tienen tercera aparición\n",
    "\n",
    "for i in range(len(s_dates)):\n",
    "    date = s_dates[i]\n",
    "    if date[-1] != \"a\":\n",
    "        dates += [datetime.strptime(date[-10:], \"%Y-%m-%d\")]\n",
    "\n",
    "    else:\n",
    "        dates += [datetime.strptime(date[:10], \"%Y-%m-%d\")]\n",
    "        if date[-3:] == \"2da\":\n",
    "            second_dates += [date[:10]]\n",
    "        elif date[-3:] == \"3ra\":\n",
    "            third_dates += [date[:10]]\n",
    "            \n",
    "\n",
    "# Orden de fechas de antiguo a actual\n",
    "\n",
    "dates.sort()\n",
    "\n",
    "\n",
    "# Direcciones de conferencias en orden:\n",
    "\n",
    "folder = \"./esteneograficas_limpias_por_fecha/\"\n",
    "ord_paths = []  # Lista con direcciones de conferencias en orden\n",
    "\n",
    "for date in dates:  \n",
    "    f_path = folder + str(date.date())\n",
    "    \n",
    "    if date in second_dates:\n",
    "        f_path += \"_2da\"\n",
    "        second_dates.remove(date)\n",
    "        \n",
    "    elif date in third_dates:\n",
    "        f_path += \"_3ra\"\n",
    "        third_dates.remove(date)\n",
    "\n",
    "    ord_paths += [f_path]\n",
    "\n",
    "# Cargar las palabras en orden:\n",
    "\n",
    "ord_words = []  # String con todas las palabras en orden\n",
    "\n",
    "\n",
    "\n",
    "# Lectura y tokenización de conferencias:\n",
    "\n",
    "tokenizer = nltk.TweetTokenizer()  \n",
    "\n",
    "i = 0\n",
    "word_year = []  # Esta lista se utilizará más adelante, en la frecuencia condicional\n",
    "for f_page in ord_paths:\n",
    "    words_in_file = tokenizer.tokenize(open(f_page, \"r\", encoding=\"utf-8\").read())  # Splitting de conferencia\n",
    "    ord_words += words_in_file\n",
    "    word_year += [dates[i].year] * len(words_in_file)  # Lista útil para ejericio 7\n",
    "    i += 1\n",
    "\n",
    "    \n",
    "# Descarga de tokens en objeto tipo Text \n",
    "\n",
    "t_words = [word.lower() for word in ord_words]\n",
    "t_words = nltk.Text(t_words)\n"
   ],
   "id": "cathedral-norfolk",
   "execution_count": null,
   "outputs": []
  },
  {
   "cell_type": "code",
   "metadata": {
    "id": "danish-episode",
    "outputId": "9c5f8baa-3204-4b05-faad-596f970ce135"
   },
   "source": [
    "# Gráfica de dispersión de lista:\n",
    "\n",
    "plot_words = [\"prian\", \"corrupción\", \"mafia\", \"narco\", \"gasolina\", \"pipas\", \"conacyt\",\n",
    "              \"ciencia\", \"turismo\", \"pandemia\", \"coronavirus\", \"covid\"] \n",
    "\n",
    "three_words = [\"migración\", \"cienfuegos\", \"huachicol\"]  # Tres palabras elegidas\n",
    "\n",
    "plot_words += three_words\n",
    "\n",
    "t_words.dispersion_plot(plot_words)  # Gráfica de dispersión"
   ],
   "id": "danish-episode",
   "execution_count": null,
   "outputs": [
    {
     "output_type": "display_data",
     "data": {
      "image/png": "[encoded data removed]",
      "text/plain": [
       "<Figure size 432x288 with 1 Axes>"
      ]
     },
     "metadata": {
      "tags": [],
      "needs_background": "light"
     }
    }
   ]
  },
  {
   "cell_type": "markdown",
   "metadata": {
    "id": "swiss-convergence"
   },
   "source": [
    "4. Muestre 50 colocaciones en todo el corpus."
   ],
   "id": "swiss-convergence"
  },
  {
   "cell_type": "code",
   "metadata": {
    "id": "purple-translation",
    "outputId": "d05b6a41-60ef-4bc7-9877-ff7ca06263da"
   },
   "source": [
    "print(\"50 colocaciones conformadas por bigramas:\")\n",
    "t_words.collocations(50, 2)"
   ],
   "id": "purple-translation",
   "execution_count": null,
   "outputs": [
    {
     "output_type": "stream",
     "text": [
      "50 colocaciones conformadas por bigramas:\n",
      "lópez obrador; andrés manuel; manuel lópez; presidente andrés; estados\n",
      "unidos; buenos días; por ciento; versión estenográfica; señor\n",
      "presidente; prensa matutina; todos los; nada más; desde luego; muchas\n",
      "gracias; guardia nacional; adultos mayores; por eso; marcelo ebrard;\n",
      "derechos humanos; por ejemplo; mil millones; todas las; muy\n",
      "importante; sin embargo; creo que; matutina del; sobre todo; que que;\n",
      "coronavirus covid; por qué; tiene que; baja california; ver con;\n",
      "nuestro país; muy bien; hugo lópez-gatell; para que; que nos;\n",
      "sembrando vida; benito juárez; gobierno federal; relaciones\n",
      "exteriores; del gobierno; este caso; 5093 4900; documentosdocumentos\n",
      "gabinetegabinete; 01800 080 1127; cdmx close; quintana roo; los\n",
      "trabajadores\n"
     ],
     "name": "stdout"
    }
   ]
  },
  {
   "cell_type": "markdown",
   "metadata": {
    "id": "balanced-examination"
   },
   "source": [
    "5. Muestre un histograma de longitud en caracteres de las palabras. Muestre en el histograma el top 5 de longitudes más largas."
   ],
   "id": "balanced-examination"
  },
  {
   "cell_type": "code",
   "metadata": {
    "id": "steady-douglas",
    "outputId": "e8c1b3e8-f834-4532-d5c7-b836d28b68e9"
   },
   "source": [
    "# Histograma con todas las longitudes:\n",
    "\n",
    "l_lens = [len(word) for word in t_words]  # Lista con longitudes\n",
    "len_Dist = nltk.FreqDist(l_lens)  # Conteo de cada longitud\n",
    "len_Dist.plot()  # Histograma\n"
   ],
   "id": "steady-douglas",
   "execution_count": null,
   "outputs": [
    {
     "output_type": "display_data",
     "data": {
      "image/png": "[encoded data removed]",
      "text/plain": [
       "<Figure size 432x288 with 1 Axes>"
      ]
     },
     "metadata": {
      "tags": [],
      "needs_background": "light"
     }
    },
    {
     "output_type": "execute_result",
     "data": {
      "text/plain": [
       "<AxesSubplot:xlabel='Samples', ylabel='Counts'>"
      ]
     },
     "metadata": {
      "tags": []
     },
     "execution_count": 14
    }
   ]
  },
  {
   "cell_type": "code",
   "metadata": {
    "id": "resident-schedule",
    "outputId": "eb144d7f-d2b7-4259-b9b6-985518848f03"
   },
   "source": [
    "# Histograma 5 palabras con longitudes más largas:\n",
    "\n",
    "l_lens = [len(word) for word in t_words]  # Lista con longitudes\n",
    "s_lens = set(l_lens)  # Conjunto de longitudes\n",
    "\n",
    "\n",
    "# Ciclo para encontrar las n_top mayores longitudes\n",
    "\n",
    "n_top = 5\n",
    "max_lens = []  # Lista de n_top longitudes máximas\n",
    "for i in range(n_top):\n",
    "    max_key = max(s_lens)\n",
    "    max_lens += [max_key]\n",
    "    s_lens.remove(max_key)\n",
    "    \n",
    "\n",
    "# Lista con palabras de longitudes máximas\n",
    "\n",
    "l_top_lens = [len(word) for word in t_words if len(word) >= min(max_lens)]\n",
    "len_top_Dist = nltk.FreqDist(l_top_lens)  # Conteo de cada longitud\n",
    "len_top_Dist.plot(n_top)  # Histograma\n"
   ],
   "id": "resident-schedule",
   "execution_count": null,
   "outputs": [
    {
     "output_type": "display_data",
     "data": {
      "image/png": "[encoded data removed]",
      "text/plain": [
       "<Figure size 432x288 with 1 Axes>"
      ]
     },
     "metadata": {
      "tags": [],
      "needs_background": "light"
     }
    },
    {
     "output_type": "execute_result",
     "data": {
      "text/plain": [
       "<AxesSubplot:xlabel='Samples', ylabel='Counts'>"
      ]
     },
     "metadata": {
      "tags": []
     },
     "execution_count": 15
    }
   ]
  },
  {
   "cell_type": "markdown",
   "metadata": {
    "id": "alone-adams"
   },
   "source": [
    "6. Muestre 50 palabras con longitud mayor a 8 caracteres y frecuencia mayor a 5 en todo el texto."
   ],
   "id": "alone-adams"
  },
  {
   "cell_type": "code",
   "metadata": {
    "id": "opened-track",
    "outputId": "e00309b8-dea4-4dd8-ae71-3859c41227c7"
   },
   "source": [
    "\n",
    "len_8_freq_5 = [word for word in t_words if len(word) > 8 and l_lens[len(word)] > 5]  # Lista de palabras con longitud mayor a 8 y fecuencia mayor a 5\n",
    "\n",
    "print(len_8_freq_5[:50])  # 50 palabras de la lista anterior\n"
   ],
   "id": "opened-track",
   "execution_count": null,
   "outputs": [
    {
     "output_type": "stream",
     "text": [
      "['estenográfica', 'presidente', 'presidente', 'boletines', 'documentos', 'biografía', 'estenográfica', 'presidente', 'estenográfica', 'estenográfica', 'presidente', 'estenográfica', 'presidente', 'presidente', 'acordamos', 'presentar', 'seguridad', 'resultados', 'mexicanos', 'trabajando', 'violencia', 'reuniones', 'seguridad', 'presentar', 'resultados', 'tendencia', 'elementos', 'instrumentos', 'enfrentar', 'violencia', 'elementos', 'seguridad', 'legalmente', 'seguridad', 'corrupción', 'delincuencia', 'avanzando', 'garantizar', 'tranquilidad', 'seguridad', 'tranquilidad', 'seguridad', 'tranquilidad', 'social.conferencia', 'publicado', 'diciembre', 'trabajando', 'coordinada', 'trabajaba', 'trabajando']\n"
     ],
     "name": "stdout"
    }
   ]
  },
  {
   "cell_type": "markdown",
   "metadata": {
    "id": "selected-conspiracy"
   },
   "source": [
    "7. Ver https://www.nltk.org/book/ch02.html en la sección 1.5. Proponga una gráfica usando ConditionalFreqDist como la de la Sección 1.5 para estos datos. Usted elige las palabras."
   ],
   "id": "selected-conspiracy"
  },
  {
   "cell_type": "code",
   "metadata": {
    "id": "portable-program",
    "outputId": "3bc9029d-440e-4d9c-aa1a-382c781a6dcf"
   },
   "source": [
    "# Grafica la aparición en el tiempo sólo de aquellas que aparecen en contextos similares a la palabra \"narcotráfico\"\n",
    "\n",
    "sim_words = [\"país\", \"gobierno\", \"pueblo\", \"estado\", \"año\", \"covid\", \"dinero\", \"tema\", \"día\",\n",
    "\"extranjero\", \"presupuesto\", \"programa\", \"tiempo\", \"mundo\", \"agua\", \"trabajo\", \"bienestar\", \"avión\"]  # Obtenida en ejercicio 2 de esta sección\n",
    "conditions = sim_words \n",
    "\n",
    "# Nota. word_year es una lista que asocia a cada palabra el año de su aparición (obtenida en ejericicio 3 de esta sección)\n",
    "pairs = [(t_words[i], word_year[i]) for i in range(len(t_words)) if t_words[i] in conditions] \n",
    "cfd = nltk.ConditionalFreqDist(pairs)\n",
    "cfd.plot()  # Histograma\n"
   ],
   "id": "portable-program",
   "execution_count": null,
   "outputs": [
    {
     "output_type": "display_data",
     "data": {
      "image/png": "[encoded data removed]",
      "text/plain": [
       "<Figure size 432x288 with 1 Axes>"
      ]
     },
     "metadata": {
      "tags": [],
      "needs_background": "light"
     }
    },
    {
     "output_type": "execute_result",
     "data": {
      "text/plain": [
       "<AxesSubplot:xlabel='Samples', ylabel='Counts'>"
      ]
     },
     "metadata": {
      "tags": []
     },
     "execution_count": 19
    }
   ]
  },
  {
   "cell_type": "markdown",
   "metadata": {
    "id": "employed-railway"
   },
   "source": [
    "8. Use la lista de stopwords de nltk y obtenga la cantidad de palabras en los datos con y sin stopword."
   ],
   "id": "employed-railway"
  },
  {
   "cell_type": "code",
   "metadata": {
    "id": "manual-married",
    "outputId": "eb100be9-35d7-4bef-9ae2-f8fe6eae63cd"
   },
   "source": [
    "# Comparación de tamaño de palabras no vacías vs. palabras totales:\n",
    "\n",
    "from nltk.corpus import stopwords  # Corpora de palabras vacías\n",
    "\n",
    "\n",
    "# Filtra las palabras no vacías de las previamente encontradas\n",
    "\n",
    "nonstop_words = [wrd for wrd in t_words if wrd not in stopwords.words('spanish')]\n",
    "\n",
    "\n",
    "print(\"Cantidad de palabras totales:\", len(set(t_words)))\n",
    "print(\"Cantidad de palabras no vacías:\", len(set(nonstop_words)))"
   ],
   "id": "manual-married",
   "execution_count": null,
   "outputs": [
    {
     "output_type": "stream",
     "text": [
      "Cantidad de palabras totales: 61051\n",
      "Cantidad de palabras no vacías: 60790\n"
     ],
     "name": "stdout"
    }
   ]
  },
  {
   "cell_type": "markdown",
   "metadata": {
    "id": "contained-pioneer"
   },
   "source": [
    "9. Muestre las 300 palabras más frecuentes en las conferencias, sin tomar en cuenta stopwords. Muéstrelas de la más frecuente a la menos frecuente."
   ],
   "id": "contained-pioneer"
  },
  {
   "cell_type": "code",
   "metadata": {
    "id": "decimal-skating",
    "outputId": "c8bd6d7d-0ebc-4bfc-b373-fa03ccaaa73f"
   },
   "source": [
    "# 300 palabras no vacías más frecuentes\n",
    "\n",
    "t_nonstop_words = nltk.Text(nonstop_words)  # Se convierten a tipo Text\n",
    "\n",
    "word_Dist = nltk.FreqDist(t_nonstop_words)  # Conteo de frecuencias\n",
    "\n",
    "ord_Dist = {k: v for k, v in sorted(word_Dist.items(), key=lambda item: item[1], reverse=True)}  # Orden del diccionario\n",
    "\n",
    "freq_words = list(ord_Dist.keys())\n",
    "\n",
    "print(freq_words[:300])  # 300 palabras con más apariciones"
   ],
   "id": "decimal-skating",
   "execution_count": null,
   "outputs": [
    {
     "output_type": "stream",
     "text": [
      "[',', '.', ':', 'presidente', '¿', '?', 'si', 'manuel', 'lópez', 'obrador', 'andrés', 'va', 'vamos', 'entonces', 'méxico', ';', 'mil', 'gobierno', '-', 'aquí', 'pregunta', 'ahora', 'dos', 'nacional', 'caso', 'ver', 'país', 'días', 'van', 'hacer', 'usted', 'cómo', 'ser', 'ahí', 'salud', 'millones', 'gente', 'gracias', 'señor', 'tema', 'así', 'bueno', 'decir', 'tener', 'pesos', 'manera', 'bien', 'importante', 'año', 'puede', 'hoy', '‘', 'pues', 'parte', 'pueblo', '…', 'ciento', 'día', 'mismo', 'prensa', 'información', 'general', '’', 'buenos', 'personas', 'corrupción', 'tiempo', 'tres', 'hace', 'años', 'seguridad', 'interlocutor', 'unidos', 'ayer', 'todas', 'luego', 'interlocutora', 'secretaría', 'muchas', 'poder', 'ustedes', 'haciendo', 'acuerdo', 'voy', 'sólo', 'programa', 'conferencia', 'además', 'trabajo', 'pública', 'federal', 'haber', 'empresas', 'ejemplo', 'ciudad', 'cada', 'dar', 'semana', 'secretario', '19', 'casos', 'toda', 'apoyo', 'siempre', 'política', 'momento', 'vida', 'creo', '20', 'mexicanos', 'trabajadores', 'recursos', 'cosas', 'cabo', 'mejor', 'social', 'mañana', 'menos', 'covid', 'plan', 'matutina', 'asunto', 'versión', 'ir', 'dinero', '–', 'hecho', 'vez', 'nuevo', 'bienestar', 'sino', 'pemex', 'presupuesto', 'estenográfica', 'atención', 'problema', 'proceso', 'jóvenes', 'quiero', 'incluso', 'derecho', 'pueden', 'todavía', 'situación', 'cuatro', 'mayor', 'ley', 'sido', 'seguir', 'podemos', 'primero', 'conocer', 'mundo', 'queremos', 'primera', '10', 'reforma', 'guardia', 'cinco', 'sistema', 'países', '(', 'trabajando', 'público', 'después', 'pasado', 'dice', 'instituto', 'elementos', 'respecto', 'derechos', 'ciudadanos', 'investigación', 'sector', 'república', 'violencia', 'cuál', 'desarrollo', 'economía', 'gran', 'mujeres', 'número', 'quién', 'hospitales', 'hizo', 'da', 'atender', 'preguntarle', 'empresa', 'informar', 'tipo', 'hablando', 'centavos', 'debe', 'baja', 'precio', ')', 'mayores', 'grupo', 'informe', 'fiscalía', 'población', 'cuenta', 'veces', 'seguro', 'personal', 'proyecto', 'comisión', 'claro', 'dicho', 'justicia', 'hacia', 'pandemia', 'nueva', 'nadie', 'seis', 'forma', 'agua', 'medios', 'decía', 'educación', 'falta', 'sé', 'punto', 'casa', 'nunca', 'coronavirus', 'respeto', 'primer', 'constitución', 'construcción', 'mucha', 'humanos', 'favor', 'compromiso', 'partir', 'protección', 'saber', 'propósito', 'nivel', 'vemos', 'servicio', 'mes', 'becas', 'responsabilidad', 'gas', 'puedo', 'meses', 'defensa', 'médicos', 'adelante', 'comunicación', 'centro', 'buena', 'riesgo', 'relación', 'ningún', 'lugar', 'través', 'podría', 'precisamente', 'allá', 'inversión', 'pueda', 'algún', 'adultos', 'llevar', 'iba', 'cambio', 'segundo', 'segunda', 'marina', 'alguna', 'sociales', 'permite', 'públicos', 'periodo', 'tan', 'llegar', 'existe', '15', 'gobernador', 'marcelo', 'mexicano', 'gobiernos', 'director', 'reunión', 'medio', 'niños', 'sonora', 'autoridades', 'interés', 'dólares', 'aunque', 'digo', 'dónde', 'veracruz', 'mal', 'garantizar', 'contacto']\n"
     ],
     "name": "stdout"
    }
   ]
  }
 ]
}
