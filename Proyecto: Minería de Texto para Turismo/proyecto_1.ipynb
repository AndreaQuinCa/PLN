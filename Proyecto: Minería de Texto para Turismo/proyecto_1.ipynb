{
 "cells": [
  {
   "cell_type": "markdown",
   "metadata": {
    "collapsed": true
   },
   "source": [
    "Proyecto 1: Minería de Texto para Turismo\n",
    "\n",
    "Andrea Quintanilla Carranza"
   ]
  },
  {
   "cell_type": "code",
   "execution_count": 4,
   "outputs": [],
   "source": [
    "# Tools\n",
    "import random\n",
    "import glob\n",
    "\n",
    "import nltk\n",
    "import numpy as np\n",
    "import pandas as pd\n",
    "from sklearn.feature_extraction.text import TfidfVectorizer\n",
    "import string\n",
    "import seaborn as sns\n",
    "from nltk.corpus import stopwords  # Corpora de palabras vacías\n",
    "from sklearn.feature_selection import SelectKBest, chi2\n",
    "import matplotlib.pyplot as plt\n",
    "from wordcloud import WordCloud\n",
    "from sklearn.decomposition import TruncatedSVD\n",
    "from IPython.display import display\n",
    "from scipy.sparse import hstack\n",
    "from nltk.tokenize import RegexpTokenizer\n",
    "from nltk import Text"
   ],
   "metadata": {
    "collapsed": false
   }
  },
  {
   "cell_type": "markdown",
   "source": [
    "Semillas:"
   ],
   "metadata": {
    "collapsed": false
   }
  },
  {
   "cell_type": "code",
   "execution_count": 5,
   "outputs": [],
   "source": [
    "seed = 111\n",
    "random.seed(seed)\n",
    "np.random.seed(seed)"
   ],
   "metadata": {
    "collapsed": false
   }
  },
  {
   "cell_type": "markdown",
   "source": [
    "\n",
    "Lectura de datos:"
   ],
   "metadata": {
    "collapsed": false
   }
  },
  {
   "cell_type": "code",
   "execution_count": 6,
   "outputs": [],
   "source": [
    "csv_folder =\"./Datos/\"\n",
    "\n",
    "# Lista de nombres con lugares\n",
    "site_names_list = []\n",
    "for f_page in glob.glob(csv_folder + \"*\"):\n",
    "    name = site = ' '.join(f_page[8:-4].split('_'))\n",
    "    site_names_list.append(name)\n",
    "\n",
    "# Diccionario nombre_lugar - tabla\n",
    "sites_df_dict= dict()\n",
    "for f_page in glob.glob(csv_folder + \"*\"):  # glob.glob regresa todos las direcciones de todos los archivos de esa carpeta\n",
    "    table = pd.read_csv(f_page, engine='python')\n",
    "    site = ' '.join(f_page[8:-4].split('_'))\n",
    "    sites_df_dict[site] = table"
   ],
   "metadata": {
    "collapsed": false
   }
  },
  {
   "cell_type": "markdown",
   "source": [
    "Organización y limpieza de datos:"
   ],
   "metadata": {
    "collapsed": false
   }
  },
  {
   "cell_type": "code",
   "execution_count": 13,
   "outputs": [],
   "source": [
    "\n",
    "\n",
    "class CleanTables():\n",
    "\n",
    "    def __init__(self, tables_dict: dict, tokenizer=None):\n",
    "\n",
    "        # Conjunto con puntuación (se omitirán del modelo)\n",
    "        self.punct = set(string.punctuation)\n",
    "        self.punct.update({'¡', '¿', '@usuario', '<url>', '...'})\n",
    "        self.punct.remove('@')\n",
    "        self.tokenizer = tokenizer if tokenizer else self.default_tokenizer\n",
    "\n",
    "        # Tablas\n",
    "        tables_dict = self.make_corpus_col(tables_dict)\n",
    "        tables_dict = self.make_label_col(tables_dict)\n",
    "        tables_dict = self.make_site_col(tables_dict)\n",
    "        tables_dict = self.format_dates(tables_dict)\n",
    "        tables_dict = self.make_age_label_col(tables_dict)\n",
    "\n",
    "        self.tables_dict = tables_dict\n",
    "        self.tables_names = tables_dict.keys()\n",
    "        self.joined_tables = pd.concat(list(tables_dict.values()))\n",
    "\n",
    "\n",
    "\n",
    "    def get_same_cols_from_tables(self, col_name:list, from_small_tables=True)->dict:\n",
    "        cols = dict()\n",
    "        if from_small_tables:\n",
    "            for site, df in self.tables_dict.items():\n",
    "                cols[site] = df[col_name]\n",
    "        else:\n",
    "            cols[\"all sites\"] = self.joined_tables[col_name]\n",
    "        return cols\n",
    "\n",
    "    def is_invalid_word(self, word: str) -> bool:\n",
    "\n",
    "        word = word.lower()\n",
    "\n",
    "        is_punct = word in self.punct\n",
    "\n",
    "        is_digit = word.isnumeric()\n",
    "\n",
    "        return is_punct or is_digit\n",
    "\n",
    "\n",
    "    def default_tokenizer(self, doc: str) -> list:\n",
    "\n",
    "        \"\"\"\n",
    "        Tokenizador default sólo utliza espacios para separar.\n",
    "        \"\"\"\n",
    "\n",
    "        return doc.split(\" \")\n",
    "\n",
    "    def clean_doc(self, doc)->list:\n",
    "\n",
    "        filtered_doc_list =  [w.replace('\"', '').lower() for w in self.tokenizer(doc) if not self.is_invalid_word(w)]\n",
    "\n",
    "        clean_doc = \" \".join(filtered_doc_list)\n",
    "\n",
    "        return clean_doc\n",
    "\n",
    "\n",
    "    def make_corpus_col(self, tables_dict: dict)->dict:\n",
    "\n",
    "        new_tables_dicts = dict()\n",
    "\n",
    "        for t_name, tab in tables_dict.items():\n",
    "\n",
    "            clean_docs_list = []\n",
    "\n",
    "            title_col = tab['Título de la opinión']\n",
    "            opinion_col = tab['Opinión']\n",
    "\n",
    "            for title, opinion in zip(title_col, opinion_col):\n",
    "                doc = title+' '+opinion\n",
    "                clean_docs_list.append(self.clean_doc(doc))\n",
    "\n",
    "            tab[\"Corpus\"] = clean_docs_list\n",
    "\n",
    "            new_tables_dicts[t_name] = tab\n",
    "\n",
    "        return new_tables_dicts\n",
    "\n",
    "    @staticmethod\n",
    "    def classify_score(score:int):\n",
    "        if score<3:\n",
    "            return \"negativo\", -1\n",
    "        elif score == 3:\n",
    "            return \"neutro\", 0\n",
    "        else:\n",
    "            return \"positivo\", 1\n",
    "\n",
    "    @staticmethod\n",
    "    def make_site_col(tables_dict: dict)->dict:\n",
    "\n",
    "        new_tables_dicts = dict()\n",
    "\n",
    "        for t_name, tab in tables_dict.items():\n",
    "\n",
    "            site_col = [t_name] * len(tab)\n",
    "            tab[\"Sitio\"] = site_col\n",
    "\n",
    "            new_tables_dicts[t_name] = tab\n",
    "\n",
    "        return new_tables_dicts\n",
    "\n",
    "    @staticmethod\n",
    "    def classify_age(age:float):\n",
    "        if age < 35.0:\n",
    "            return \"joven\"\n",
    "        elif age > 55.0:\n",
    "            return \"viejo\"\n",
    "        else:\n",
    "            return \"adulto\"\n",
    "\n",
    "    @staticmethod\n",
    "    def make_label_col(tables_dict: dict)->dict:\n",
    "\n",
    "        new_tables_dicts = dict()\n",
    "\n",
    "        for t_name, tab in tables_dict.items():\n",
    "\n",
    "            labels_col = []\n",
    "            score_col = []\n",
    "\n",
    "            scores_col = tab['Escala']\n",
    "\n",
    "            for score in scores_col:\n",
    "                label, label_ord = CleanTables.classify_score(score)\n",
    "                labels_col.append(label)\n",
    "                score_col.append(label_ord)\n",
    "\n",
    "            tab[\"Etiqueta\"] = labels_col\n",
    "            tab[\"Num. etiqueta\"] = score_col\n",
    "\n",
    "            new_tables_dicts[t_name] = tab\n",
    "\n",
    "        return new_tables_dicts\n",
    "\n",
    "    @staticmethod\n",
    "    def make_age_label_col(tables_dict: dict)->dict:\n",
    "\n",
    "        new_tables_dicts = dict()\n",
    "\n",
    "        for t_name, tab in tables_dict.items():\n",
    "\n",
    "            labels_col = []\n",
    "\n",
    "            age_col = tab['Edad']\n",
    "\n",
    "\n",
    "            for age in age_col:\n",
    "\n",
    "                label = CleanTables.classify_age(age)\n",
    "\n",
    "                labels_col.append(label)\n",
    "\n",
    "\n",
    "            tab[\"Etiqueta edad\"] = labels_col\n",
    "\n",
    "            new_tables_dicts[t_name] = tab\n",
    "\n",
    "        return new_tables_dicts\n",
    "\n",
    "    def format_dates(self, tables_dict: dict)->dict:\n",
    "\n",
    "        new_tables_dicts = dict()\n",
    "\n",
    "        for t_name, tab in tables_dict.items():\n",
    "\n",
    "            tab[\"Fecha\"] = pd.to_datetime(tab[\"Fecha\"])\n",
    "\n",
    "            new_tables_dicts[t_name] = tab\n",
    "\n",
    "        return new_tables_dicts\n",
    "\n",
    "\n",
    "    def get_subgroups_corpora_n_labels(self, category:string, col_name:string)->dict:\n",
    "        subgroups_corporas = dict()\n",
    "\n",
    "        for site, df in self.tables_dict.items():\n",
    "\n",
    "            corpus = df.loc[df[col_name]==category, \"Corpus\"]\n",
    "            labels = df.loc[df[col_name]==category, \"Etiqueta\"]\n",
    "            subgroups_corporas[site] = (list(corpus), list(labels))\n",
    "\n",
    "        return subgroups_corporas\n",
    "\n",
    "    # # select columns of dataframe\n",
    "    # age_sex = titanic[[\"Age\", \"Sex\"]]\n",
    "    #\n",
    "    # # filter specific rows from a DataFrame\n",
    "    # above_35 = titanic[titanic[\"Age\"] > 35]\n",
    "    # class_23 = titanic[titanic[\"Pclass\"].isin([2, 3])]\n",
    "    # class_23 = titanic[(titanic[\"Pclass\"] == 2) | (titanic[\"Pclass\"] == 3)]\n",
    "    #\n",
    "    # # just known data\n",
    "    # age_no_na = titanic[titanic[\"Age\"].notna()]\n",
    "    #\n",
    "    # # select rows and columns: first argument rows, second cols\n",
    "    # adult_names = titanic.loc[titanic[\"Age\"] > 35, \"Name\"]\n",
    "    # titanic.iloc[9:25, 2:5]\n",
    "\n",
    "\n",
    "tokenizer = RegexpTokenizer(\"[^\\d\\W]+\")\n",
    "manage_tables = CleanTables(sites_df_dict, tokenizer.tokenize)"
   ],
   "metadata": {
    "collapsed": false
   }
  },
  {
   "cell_type": "code",
   "execution_count": 8,
   "outputs": [
    {
     "data": {
      "text/plain": "      Género  Edad Nacional ó Internacional Calificación  Escala  \\\n0   Femenino  64.0            Internacional    Muy bueno       4   \n1  Masculino  59.0            Internacional    Excelente       5   \n2   Femenino  26.0            Internacional    Excelente       5   \n3  Masculino  50.0            Internacional    Excelente       5   \n4   Femenino  55.0            Internacional      Regular       3   \n\n   Número de aportaciones                               Título de la opinión  \\\n0                   175.0                                    \"Punto central\"   \n1                   306.0  \"The most important church in this colonial to...   \n2                   106.0              \"Y uno de los símbolos de Guanajuato\"   \n3                    62.0                         \"Beautiful and a must see\"   \n4                    59.0                                             \"Nice\"   \n\n                                             Opinión            País   Idioma  \\\n0  \"Basílica muy bien conservada, punto central e...        Colombia  Español   \n1  \"The Basilica (Guanajuato does not have a Cath...        Colombia   Inglés   \n2  \"Edificio de la iglesia amarilla es un abigarr...   Corea del Sur  Coreano   \n3  \"A must see place in town and very nice to go ...  Estados Unidos   Inglés   \n4  \"Not particularly impressive, but if you like ...  Estados Unidos   Inglés   \n\n  Dispositivo      Fecha                                             Corpus  \\\n0       Móvil 2018-05-13  punto central basílica muy bien conservada pun...   \n1          PC 2018-05-08  the most important church in this colonial tow...   \n2          PC 2018-05-05  y uno de los símbolos de guanajuato edificio d...   \n3          PC 2018-05-01  beautiful and a must see a must see place in t...   \n4          PC 2018-04-29  nice not particularly impressive but if you li...   \n\n   Etiqueta  Num. etiqueta               Sitio Etiqueta edad  \n0  positivo              1  basilica colegiata         viejo  \n1  positivo              1  basilica colegiata         viejo  \n2  positivo              1  basilica colegiata         joven  \n3  positivo              1  basilica colegiata        adulto  \n4    neutro              0  basilica colegiata        adulto  ",
      "text/html": "<div>\n<style scoped>\n    .dataframe tbody tr th:only-of-type {\n        vertical-align: middle;\n    }\n\n    .dataframe tbody tr th {\n        vertical-align: top;\n    }\n\n    .dataframe thead th {\n        text-align: right;\n    }\n</style>\n<table border=\"1\" class=\"dataframe\">\n  <thead>\n    <tr style=\"text-align: right;\">\n      <th></th>\n      <th>Género</th>\n      <th>Edad</th>\n      <th>Nacional ó Internacional</th>\n      <th>Calificación</th>\n      <th>Escala</th>\n      <th>Número de aportaciones</th>\n      <th>Título de la opinión</th>\n      <th>Opinión</th>\n      <th>País</th>\n      <th>Idioma</th>\n      <th>Dispositivo</th>\n      <th>Fecha</th>\n      <th>Corpus</th>\n      <th>Etiqueta</th>\n      <th>Num. etiqueta</th>\n      <th>Sitio</th>\n      <th>Etiqueta edad</th>\n    </tr>\n  </thead>\n  <tbody>\n    <tr>\n      <th>0</th>\n      <td>Femenino</td>\n      <td>64.0</td>\n      <td>Internacional</td>\n      <td>Muy bueno</td>\n      <td>4</td>\n      <td>175.0</td>\n      <td>\"Punto central\"</td>\n      <td>\"Basílica muy bien conservada, punto central e...</td>\n      <td>Colombia</td>\n      <td>Español</td>\n      <td>Móvil</td>\n      <td>2018-05-13</td>\n      <td>punto central basílica muy bien conservada pun...</td>\n      <td>positivo</td>\n      <td>1</td>\n      <td>basilica colegiata</td>\n      <td>viejo</td>\n    </tr>\n    <tr>\n      <th>1</th>\n      <td>Masculino</td>\n      <td>59.0</td>\n      <td>Internacional</td>\n      <td>Excelente</td>\n      <td>5</td>\n      <td>306.0</td>\n      <td>\"The most important church in this colonial to...</td>\n      <td>\"The Basilica (Guanajuato does not have a Cath...</td>\n      <td>Colombia</td>\n      <td>Inglés</td>\n      <td>PC</td>\n      <td>2018-05-08</td>\n      <td>the most important church in this colonial tow...</td>\n      <td>positivo</td>\n      <td>1</td>\n      <td>basilica colegiata</td>\n      <td>viejo</td>\n    </tr>\n    <tr>\n      <th>2</th>\n      <td>Femenino</td>\n      <td>26.0</td>\n      <td>Internacional</td>\n      <td>Excelente</td>\n      <td>5</td>\n      <td>106.0</td>\n      <td>\"Y uno de los símbolos de Guanajuato\"</td>\n      <td>\"Edificio de la iglesia amarilla es un abigarr...</td>\n      <td>Corea del Sur</td>\n      <td>Coreano</td>\n      <td>PC</td>\n      <td>2018-05-05</td>\n      <td>y uno de los símbolos de guanajuato edificio d...</td>\n      <td>positivo</td>\n      <td>1</td>\n      <td>basilica colegiata</td>\n      <td>joven</td>\n    </tr>\n    <tr>\n      <th>3</th>\n      <td>Masculino</td>\n      <td>50.0</td>\n      <td>Internacional</td>\n      <td>Excelente</td>\n      <td>5</td>\n      <td>62.0</td>\n      <td>\"Beautiful and a must see\"</td>\n      <td>\"A must see place in town and very nice to go ...</td>\n      <td>Estados Unidos</td>\n      <td>Inglés</td>\n      <td>PC</td>\n      <td>2018-05-01</td>\n      <td>beautiful and a must see a must see place in t...</td>\n      <td>positivo</td>\n      <td>1</td>\n      <td>basilica colegiata</td>\n      <td>adulto</td>\n    </tr>\n    <tr>\n      <th>4</th>\n      <td>Femenino</td>\n      <td>55.0</td>\n      <td>Internacional</td>\n      <td>Regular</td>\n      <td>3</td>\n      <td>59.0</td>\n      <td>\"Nice\"</td>\n      <td>\"Not particularly impressive, but if you like ...</td>\n      <td>Estados Unidos</td>\n      <td>Inglés</td>\n      <td>PC</td>\n      <td>2018-04-29</td>\n      <td>nice not particularly impressive but if you li...</td>\n      <td>neutro</td>\n      <td>0</td>\n      <td>basilica colegiata</td>\n      <td>adulto</td>\n    </tr>\n  </tbody>\n</table>\n</div>"
     },
     "execution_count": 8,
     "metadata": {},
     "output_type": "execute_result"
    }
   ],
   "source": [
    "manage_tables.joined_tables.head()"
   ],
   "metadata": {
    "collapsed": false
   }
  },
  {
   "cell_type": "markdown",
   "source": [
    "Clase para manejo de bolsas de palabras:"
   ],
   "metadata": {
    "collapsed": false
   }
  },
  {
   "cell_type": "code",
   "execution_count": 14,
   "outputs": [],
   "source": [
    "class Bow():\n",
    "\n",
    "    def __init__(self, corpus, tr_y, n_gram_range, min_df=0, maxfeatures=None):\n",
    "\n",
    "        stopwords_en_sp = stopwords.words('spanish') + stopwords.words('english')\n",
    "\n",
    "        self.vectorizer = TfidfVectorizer(stop_words=stopwords_en_sp, ngram_range=n_gram_range, norm='l2',\n",
    "                                          max_features=maxfeatures, min_df=min_df)\n",
    "        self.corpus = corpus\n",
    "\n",
    "        self.tr_y = tr_y\n",
    "\n",
    "        self.bow = self.vectorizer.fit_transform(self.corpus)\n",
    "\n",
    "        self.vocab = self.vectorizer.get_feature_names()\n",
    "\n",
    "        self.topic_encoded_df = None\n",
    "\n",
    "        self.topic_names = None\n",
    "\n",
    "        self.encoding_matrix = None\n",
    "\n",
    "\n",
    "    def get_bow_as_df(self):\n",
    "        return pd.DataFrame(self.bow.toarray(), columns = self.vocab)\n",
    "\n",
    "    def get_most_important_features(self, m:int)->(list, dict):\n",
    "\n",
    "        feats = SelectKBest(chi2, k=m) # Palabras más relevantes para discriminar entre las palabras de interés\n",
    "\n",
    "        feats.fit(self.bow, self.tr_y)\n",
    "\n",
    "        best_idx = feats.get_support(indices=True)\n",
    "\n",
    "        # self.bow = SelectKBest(chi2, k=m).fit_transform(self.bow, self.tr_y)\n",
    "\n",
    "\n",
    "        scores = feats.scores_\n",
    "\n",
    "        return best_idx, {self.vocab[i]:scores[i] for i in best_idx}\n",
    "\n",
    "    def plt_cloud_m_words(self, m:int):\n",
    "        best_idx, word_score_dict = self.get_most_important_features(m)\n",
    "        wordcloud = WordCloud()\n",
    "        wordcloud.fit_words(word_score_dict)\n",
    "        plt.imshow(wordcloud, interpolation='bilinear')\n",
    "        plt.axis(\"off\")\n",
    "        plt.show()\n",
    "        pass\n",
    "\n",
    "    def calculate_lsa(self, n_topics=3, n_words_to_show=10):\n",
    "\n",
    "        self.topic_names = [\"Topic \"+ str(i+1) for i in range(n_topics)]\n",
    "        svd = TruncatedSVD(n_components=n_topics)\n",
    "        lsa = svd.fit_transform(self.bow)\n",
    "\n",
    "        self.topic_encoded_df = pd.DataFrame(lsa, columns=self.topic_names)\n",
    "\n",
    "        print(\"topic_encoded_df dims = \", self.topic_encoded_df.shape)\n",
    "        self.topic_encoded_df[\"Corpus\"] = self.corpus\n",
    "        m_rows_df = self.topic_encoded_df.iloc[0:n_words_to_show, :] # test.iloc[0:2, :]\n",
    "        display(m_rows_df[[\"Corpus\"]+self.topic_names])\n",
    "        # display(self.topic_encoded_df)\n",
    "\n",
    "\n",
    "        self.encoding_matrix = pd.DataFrame(svd.components_, index=self.topic_names,\n",
    "\n",
    "                                   columns=self.vocab).T\n",
    "\n",
    "    def sort_n_show_encoding_by_n_topic_m_rows(self, n, m):\n",
    "        if not (0 < n <= len(self.topic_names)):\n",
    "            print(str(n)+ ' is out of range, sorting by first topic')\n",
    "            n = 1\n",
    "\n",
    "        n -= 1\n",
    "        self.encoding_matrix[\"abs\"] = np.abs(self.encoding_matrix[self.topic_names[n]])\n",
    "        self.encoding_matrix = self.encoding_matrix.sort_values(\"abs\", ascending=False)\n",
    "        m_rows_df = self.encoding_matrix.iloc[0:m, :] # test.iloc[0:2, :]\n",
    "        display(m_rows_df[self.topic_names[n]].T)\n",
    "\n",
    "        pass\n",
    "\n",
    "\n",
    "    def plot_first_pc_by_cat(self, slice_with_labels, class_names:list):\n",
    "\n",
    "        self.encoding_matrix[\"Cat\"] = slice_with_labels\n",
    "\n",
    "        fig, ax = plt.subplots()\n",
    "        for val in self.encoding_matrix.class_names[0].unique():\n",
    "            topic_1 = self.encoding_matrix[self.encoding_matrix.Cat == val][self.topic_names[0]].values\n",
    "            topic_2 = self.encoding_matrix[self.encoding_matrix.Cat == val][self.topic_names[1]].values\n",
    "            color = \"red\" if val else \"green\"\n",
    "            label = class_names[0] if val else class_names[1]\n",
    "            ax.scatter(topic_1, topic_2, c=color, alpha=0.3, label=label)\n",
    "\n",
    "        ax.set_xlabel(\"First Topic\")\n",
    "        ax.set_ylabel(\"Second Topic\")\n",
    "        ax.axvline(linewidth=0.5)\n",
    "        ax.axhline(linewidth=0.5)\n",
    "        ax.legend()\n",
    "        display(fig)\n",
    "\n",
    "        pass\n",
    "\n",
    "    def actualize_to_most_important_features(self, m, func)->None:\n",
    "\n",
    "        feats = SelectKBest(func, k=m) # Palabras más relevantes para discriminar entre las palabras de interés\n",
    "\n",
    "        feats.fit(self.bow, self.tr_y)\n",
    "\n",
    "        best_idx = feats.get_support(indices=True)\n",
    "\n",
    "        self.vocab = [self.vocab[i] for i in best_idx]\n",
    "\n",
    "        self.bow = SelectKBest(func, k=m).fit_transform(self.bow, self.tr_y)\n",
    "\n",
    "        self.vectorizer = None\n",
    "\n",
    "        self.topic_encoded_df = None\n",
    "\n",
    "        self.topic_names = None\n",
    "\n",
    "        self.encoding_matrix = None\n",
    "\n",
    "        pass\n"
   ],
   "metadata": {
    "collapsed": false
   }
  },
  {
   "cell_type": "markdown",
   "source": [
    "## I. Actividades\n",
    "\n",
    "1. Construya estadísticas básicas respecto a la opinión de cada lugar turistico. Considere scores de 4 a 5 como positivos,\n",
    "calificaciones de 3 como neutros y las de 2 a 1 como negativos."
   ],
   "metadata": {
    "collapsed": false
   }
  },
  {
   "cell_type": "markdown",
   "source": [
    "a) y b) Promedios de calificación por lugar, y desviaciones estándar en los scores. Y\n",
    "longitud promedio de opiniones y desviacones estándar."
   ],
   "metadata": {
    "collapsed": false
   }
  },
  {
   "cell_type": "code",
   "execution_count": 15,
   "outputs": [
    {
     "data": {
      "text/plain": "                          Calificación promedio  Escala promedio  \\\nBasilica colegiata                        Bueno             4.50   \nTeatro juarez                         Excelente             4.70   \nMercado hidalgo                           Bueno             3.95   \nMuseo de las momias                       Bueno             3.68   \nCasa de diego rivera                      Bueno             4.24   \nAlhondiga                                 Bueno             4.45   \nCallejon del beso                         Bueno             4.00   \nJardin de la union                    Excelente             4.59   \nMonumento pipila                          Bueno             4.38   \nUniversidad de guanajuato             Excelente             4.60   \n\n                           Desviación de escala  \\\nBasilica colegiata                         0.67   \nTeatro juarez                              0.52   \nMercado hidalgo                            0.95   \nMuseo de las momias                        1.14   \nCasa de diego rivera                       0.80   \nAlhondiga                                  0.75   \nCallejon del beso                          0.97   \nJardin de la union                         0.61   \nMonumento pipila                           0.77   \nUniversidad de guanajuato                  0.61   \n\n                           Longitud promedio de opiniones  \\\nBasilica colegiata                             227.189286   \nTeatro juarez                                  239.888119   \nMercado hidalgo                                263.935000   \nMuseo de las momias                            327.655758   \nCasa de diego rivera                           277.161891   \nAlhondiga                                      271.788172   \nCallejon del beso                              251.116912   \nJardin de la union                             248.666667   \nMonumento pipila                               264.432716   \nUniversidad de guanajuato                      208.566667   \n\n                           Desviación de longitud opiniones  \nBasilica colegiata                               164.190560  \nTeatro juarez                                    151.704208  \nMercado hidalgo                                  188.140734  \nMuseo de las momias                              260.066447  \nCasa de diego rivera                             166.846241  \nAlhondiga                                        193.772422  \nCallejon del beso                                180.005965  \nJardin de la union                               203.105184  \nMonumento pipila                                 199.226825  \nUniversidad de guanajuato                        115.317808  ",
      "text/html": "<div>\n<style scoped>\n    .dataframe tbody tr th:only-of-type {\n        vertical-align: middle;\n    }\n\n    .dataframe tbody tr th {\n        vertical-align: top;\n    }\n\n    .dataframe thead th {\n        text-align: right;\n    }\n</style>\n<table border=\"1\" class=\"dataframe\">\n  <thead>\n    <tr style=\"text-align: right;\">\n      <th></th>\n      <th>Calificación promedio</th>\n      <th>Escala promedio</th>\n      <th>Desviación de escala</th>\n      <th>Longitud promedio de opiniones</th>\n      <th>Desviación de longitud opiniones</th>\n    </tr>\n  </thead>\n  <tbody>\n    <tr>\n      <th>Basilica colegiata</th>\n      <td>Bueno</td>\n      <td>4.50</td>\n      <td>0.67</td>\n      <td>227.189286</td>\n      <td>164.190560</td>\n    </tr>\n    <tr>\n      <th>Teatro juarez</th>\n      <td>Excelente</td>\n      <td>4.70</td>\n      <td>0.52</td>\n      <td>239.888119</td>\n      <td>151.704208</td>\n    </tr>\n    <tr>\n      <th>Mercado hidalgo</th>\n      <td>Bueno</td>\n      <td>3.95</td>\n      <td>0.95</td>\n      <td>263.935000</td>\n      <td>188.140734</td>\n    </tr>\n    <tr>\n      <th>Museo de las momias</th>\n      <td>Bueno</td>\n      <td>3.68</td>\n      <td>1.14</td>\n      <td>327.655758</td>\n      <td>260.066447</td>\n    </tr>\n    <tr>\n      <th>Casa de diego rivera</th>\n      <td>Bueno</td>\n      <td>4.24</td>\n      <td>0.80</td>\n      <td>277.161891</td>\n      <td>166.846241</td>\n    </tr>\n    <tr>\n      <th>Alhondiga</th>\n      <td>Bueno</td>\n      <td>4.45</td>\n      <td>0.75</td>\n      <td>271.788172</td>\n      <td>193.772422</td>\n    </tr>\n    <tr>\n      <th>Callejon del beso</th>\n      <td>Bueno</td>\n      <td>4.00</td>\n      <td>0.97</td>\n      <td>251.116912</td>\n      <td>180.005965</td>\n    </tr>\n    <tr>\n      <th>Jardin de la union</th>\n      <td>Excelente</td>\n      <td>4.59</td>\n      <td>0.61</td>\n      <td>248.666667</td>\n      <td>203.105184</td>\n    </tr>\n    <tr>\n      <th>Monumento pipila</th>\n      <td>Bueno</td>\n      <td>4.38</td>\n      <td>0.77</td>\n      <td>264.432716</td>\n      <td>199.226825</td>\n    </tr>\n    <tr>\n      <th>Universidad de guanajuato</th>\n      <td>Excelente</td>\n      <td>4.60</td>\n      <td>0.61</td>\n      <td>208.566667</td>\n      <td>115.317808</td>\n    </tr>\n  </tbody>\n</table>\n</div>"
     },
     "execution_count": 15,
     "metadata": {},
     "output_type": "execute_result"
    }
   ],
   "source": [
    "def scale_to_score(scale):\n",
    "    if scale > 4.5:\n",
    "        return \"Excelente\"\n",
    "    if scale > 3.5:\n",
    "        return \"Bueno\"\n",
    "    if scale > 2.5:\n",
    "        return \"Regular\"\n",
    "    if scale > 1.5:\n",
    "        return \"Malo\"\n",
    "    else:\n",
    "        return \"Pésimo\"\n",
    "\n",
    "\n",
    "\n",
    "site_scales_dict = manage_tables.get_same_cols_from_tables(\"Escala\")\n",
    "site_corpus_dict = manage_tables.get_same_cols_from_tables(\"Opinión\")\n",
    "\n",
    "data = []\n",
    "index = []\n",
    "\n",
    "for site, scale in site_scales_dict.items():\n",
    "\n",
    "    mean = scale.mean()\n",
    "    corpus = site_corpus_dict[site]\n",
    "    corpus_lens = corpus.apply(lambda op: len(op))\n",
    "\n",
    "    site_dict = {\"Calificación promedio\": scale_to_score(mean),\n",
    "                 \"Escala promedio\": round(mean,2), \"Desviación de escala\": round(scale.std(),2),\n",
    "                 \"Longitud promedio de opiniones\": corpus_lens.mean(), \"Desviación de longitud opiniones\":corpus_lens.std()}\n",
    "\n",
    "    data.append(site_dict)\n",
    "    index.append(site.capitalize())\n",
    "\n",
    "stats_sites = pd.DataFrame(data, index=index)\n",
    "stats_sites\n"
   ],
   "metadata": {
    "collapsed": false
   }
  },
  {
   "cell_type": "markdown",
   "source": [
    "(c) Histogramas de edades de opiniones por lugar"
   ],
   "metadata": {
    "collapsed": false
   }
  },
  {
   "cell_type": "code",
   "execution_count": 16,
   "outputs": [
    {
     "data": {
      "text/plain": "<Figure size 432x288 with 1 Axes>",
      "image/png": "[encoded data removed]"
     },
     "metadata": {},
     "output_type": "display_data"
    },
    {
     "data": {
      "text/plain": "<Figure size 432x288 with 1 Axes>",
      "image/png": "[encoded data removed]"
     },
     "metadata": {},
     "output_type": "display_data"
    },
    {
     "data": {
      "text/plain": "<Figure size 432x288 with 1 Axes>",
      "image/png": "[encoded data removed]"
     },
     "metadata": {},
     "output_type": "display_data"
    },
    {
     "data": {
      "text/plain": "<Figure size 432x288 with 1 Axes>",
      "image/png": "[encoded data removed]"
     },
     "metadata": {},
     "output_type": "display_data"
    },
    {
     "data": {
      "text/plain": "<Figure size 432x288 with 1 Axes>",
      "image/png": "[encoded data removed]"
     },
     "metadata": {},
     "output_type": "display_data"
    },
    {
     "data": {
      "text/plain": "<Figure size 432x288 with 1 Axes>",
      "image/png": "[encoded data removed]"
     },
     "metadata": {},
     "output_type": "display_data"
    },
    {
     "data": {
      "text/plain": "<Figure size 432x288 with 1 Axes>",
      "image/png": "[encoded data removed]"
     },
     "metadata": {},
     "output_type": "display_data"
    },
    {
     "data": {
      "text/plain": "<Figure size 432x288 with 1 Axes>",
      "image/png": "[encoded data removed]"
     },
     "metadata": {},
     "output_type": "display_data"
    },
    {
     "data": {
      "text/plain": "<Figure size 432x288 with 1 Axes>",
      "image/png": "[encoded data removed]"
     },
     "metadata": {},
     "output_type": "display_data"
    },
    {
     "data": {
      "text/plain": "<Figure size 432x288 with 1 Axes>",
      "image/png": "[encoded data removed]"
     },
     "metadata": {},
     "output_type": "display_data"
    }
   ],
   "source": [
    "sns.set_theme()\n",
    "for site, df in sites_df_dict.items():\n",
    "    fig, ax = plt.subplots(1, 1)\n",
    "    ax.set_title(site.capitalize())\n",
    "    ax.set_xlabel('Edad')\n",
    "    ax.set_ylabel('Conteo')\n",
    "    ax.hist(df[\"Edad\"], bins=10)\n",
    "    plt.show()\n"
   ],
   "metadata": {
    "collapsed": false
   }
  },
  {
   "cell_type": "markdown",
   "source": [
    "(d) Histograma de tipo de visitantes (nacional o internacional) por lugar"
   ],
   "metadata": {
    "collapsed": false
   }
  },
  {
   "cell_type": "code",
   "execution_count": null,
   "outputs": [],
   "source": [
    "for site, df in sites_df_dict.items():\n",
    "    fig, ax = plt.subplots(1, 1)\n",
    "    ax.set_title(site.capitalize())\n",
    "    ax.set_xlabel('Procedencia')\n",
    "    ax.set_ylabel('Conteo')\n",
    "    ax.hist(df[\"Nacional ó Internacional\"], bins=3, align='mid')\n",
    "    plt.show()"
   ],
   "metadata": {
    "collapsed": false
   }
  },
  {
   "cell_type": "markdown",
   "source": [
    "e) Sugiere dos más interesantes para ti."
   ],
   "metadata": {
    "collapsed": false
   }
  },
  {
   "cell_type": "markdown",
   "source": [
    "e-i) Histograma de género de visitantes por lugar y en total."
   ],
   "metadata": {
    "collapsed": false
   }
  },
  {
   "cell_type": "code",
   "execution_count": null,
   "outputs": [],
   "source": [
    "for site, df in sites_df_dict.items():\n",
    "    fig, ax = plt.subplots(1, 1)\n",
    "    ax.set_title(site.capitalize())\n",
    "    ax.set_xlabel('Género')\n",
    "    ax.set_ylabel('Conteo')\n",
    "    ax.hist(df[\"Género\"], bins=3, align='mid')\n",
    "    plt.show()"
   ],
   "metadata": {
    "collapsed": false
   }
  },
  {
   "cell_type": "code",
   "execution_count": null,
   "outputs": [],
   "source": [
    "df = manage_tables.joined_tables\n",
    "fig, ax = plt.subplots(1, 1)\n",
    "ax.set_title(\"Género en todos los sitios\")\n",
    "ax.set_xlabel('Género')\n",
    "ax.set_ylabel('Conteo')\n",
    "ax.hist(df[\"Género\"], bins=3, align='mid')\n",
    "plt.show()"
   ],
   "metadata": {
    "collapsed": false
   }
  },
  {
   "cell_type": "markdown",
   "source": [
    "e-ii) Histograma de número de aportaciones por lugar."
   ],
   "metadata": {
    "collapsed": false
   }
  },
  {
   "cell_type": "code",
   "execution_count": null,
   "outputs": [],
   "source": [
    "SMALL_SIZE = 8\n",
    "MEDIUM_SIZE = 10\n",
    "BIGGER_SIZE = 12\n",
    "\n",
    "plt.rc('font', size=SMALL_SIZE)          # controls default text sizes\n",
    "plt.rc('axes', titlesize=SMALL_SIZE)     # fontsize of the axes title\n",
    "plt.rc('axes', labelsize=MEDIUM_SIZE)    # fontsize of the x and y labels\n",
    "plt.rc('xtick', labelsize=SMALL_SIZE)    # fontsize of the tick labels\n",
    "plt.rc('ytick', labelsize=SMALL_SIZE)    # fontsize of the tick labels\n",
    "plt.rc('legend', fontsize=SMALL_SIZE)\n",
    "\n",
    "df = manage_tables.joined_tables\n",
    "fig, ax = plt.subplots(1, 1)\n",
    "ax.set_title(\"Aportaciones por sitio\")\n",
    "ax.set_xlabel('Sitio')\n",
    "ax.set_ylabel('Conteo')\n",
    "ax.hist(df[\"Sitio\"], bins=10, align='mid')\n",
    "plt.setp(ax.get_xticklabels(), rotation=45)\n",
    "plt.show()\n",
    "\n"
   ],
   "metadata": {
    "collapsed": false
   }
  },
  {
   "cell_type": "markdown",
   "source": [
    "2. Utilizando una estrategia de feature selection (se sugiere $X^2$ o ganancia de información), visualice con word_cloud\n",
    "nubes de palabras el top k (se sugiere 50) de palabras más relevantes para cada uno de los 10 lugares. Note que serán\n",
    "10 nubes, una por lugar."
   ],
   "metadata": {
    "collapsed": false
   }
  },
  {
   "cell_type": "markdown",
   "source": [
    "En todos los casos se utilizó $X^2$ y bolsas con pesado TFIDF normalizadas con L2. Tanto para el feature selection\n",
    "como para la construcción de las bolsas se ocupó la librería sklearnt."
   ],
   "metadata": {
    "collapsed": false
   }
  },
  {
   "cell_type": "code",
   "execution_count": null,
   "outputs": [],
   "source": [
    "# Diccionario nombre_sitio-(corpora, etiquetas)\n",
    "sites_corporas_n_labels = dict()\n",
    "\n",
    "# Diccionario nombre_sitio-bow\n",
    "manage_bow_sites_dict = dict()\n",
    "\n",
    "for site, df in manage_tables.tables_dict.items():\n",
    "    corpus = list(df[\"Corpus\"])\n",
    "    labels = list(df[\"Etiqueta\"])\n",
    "    sites_corporas_n_labels[site] = (corpus, labels)\n",
    "    manage_bow_sites_dict[site] = Bow(corpus, labels, (1,1))\n"
   ],
   "metadata": {
    "collapsed": false
   }
  },
  {
   "cell_type": "code",
   "execution_count": null,
   "outputs": [],
   "source": [
    "m = 50\n",
    "for site, bow in manage_bow_sites_dict.items():\n",
    "\n",
    "    print(\"\\n\" + \"-\"*90)\n",
    "    print(\"\\n Feature selection  en \"+ str(site.capitalize()) + \"\\n\")\n",
    "\n",
    "    bow.plt_cloud_m_words(m)\n",
    "\n"
   ],
   "metadata": {
    "collapsed": false
   }
  },
  {
   "cell_type": "markdown",
   "source": [
    "3. Para cada uno de los 10 sitios turísticos, haga un descubrimiento automático de los 3 tópicos con LSA\n",
    "(componentes principales) más relevantes y 10 palabras contenidas en cada tópico de cada uno de los\n",
    "siguientes subgrupos:"
   ],
   "metadata": {
    "collapsed": false
   }
  },
  {
   "cell_type": "markdown",
   "source": [
    "a) Hombres"
   ],
   "metadata": {
    "collapsed": false
   }
  },
  {
   "cell_type": "code",
   "execution_count": null,
   "outputs": [],
   "source": [
    "# Diccionario nombre_sitio-(corpora_subgrupo, etiquetas_subgrupo)\n",
    "subgroup_corp_n_tr_dict = manage_tables.get_subgroups_corpora_n_labels(\"Masculino\", \"Género\")\n",
    "manage_bow_sites_list = []\n",
    "title_group = \"Hombres\"\n",
    "# Cálculo de LSA y derivados para cada sitio\n",
    "for site, (corpus, tr_y) in subgroup_corp_n_tr_dict.items():\n",
    "    print(\"\\n\" + \"-\"*90)\n",
    "    print(\"\\n                          LSA en \"+ str(site.capitalize()) + \" \" + title_group)\n",
    "    n_gram_range = (1,1)\n",
    "    manage_bow = Bow(corpus, tr_y, n_gram_range)\n",
    "    manage_bow_sites_list.append(manage_bow)\n",
    "    n_topics = 3\n",
    "    print(\"\\n Ejemplos de opiniones descritas por tópicos\")\n",
    "    manage_bow.calculate_lsa(n_topics, 3)\n",
    "    m_to_show = 10\n",
    "    for i in range(n_topics):\n",
    "        print(\"\\n\" + \"Palabras con mayores pesos para el tópico \"+str(i+1))\n",
    "        manage_bow.sort_n_show_encoding_by_n_topic_m_rows(i+1, m_to_show)"
   ],
   "metadata": {
    "collapsed": false
   }
  },
  {
   "cell_type": "markdown",
   "source": [
    "b) Mujeres"
   ],
   "metadata": {
    "collapsed": false
   }
  },
  {
   "cell_type": "code",
   "execution_count": null,
   "outputs": [],
   "source": [
    "# Diccionario nombre_sitio-(corpora_subgrupo, etiquetas_subgrupo)\n",
    "subgroup_corp_n_tr_dict = manage_tables.get_subgroups_corpora_n_labels(\"Femenino\", \"Género\")\n",
    "\n",
    "title_group = \"Mujeres\"\n",
    "# Cálculo de LSA y derivados para cada sitio\n",
    "for site, (corpus, tr_y) in subgroup_corp_n_tr_dict.items():\n",
    "    print(\"\\n\" + \"-\"*90)\n",
    "    print(\"\\n                          LSA en \"+ str(site.capitalize()) + \" \" + title_group)\n",
    "    n_gram_range = (1,1)\n",
    "    manage_bow = Bow(corpus, tr_y, n_gram_range)\n",
    "\n",
    "    n_topics = 3\n",
    "    print(\"\\n Ejemplos de opiniones descritas por tópicos:\")\n",
    "    manage_bow.calculate_lsa(n_topics, 3)\n",
    "    m_to_show = 10\n",
    "    for i in range(n_topics):\n",
    "        print(\"\\n\" + \"Palabras con mayores pesos para el tópico \"+str(i+1))\n",
    "        manage_bow.sort_n_show_encoding_by_n_topic_m_rows(i+1, m_to_show)\n"
   ],
   "metadata": {
    "collapsed": false
   }
  },
  {
   "cell_type": "markdown",
   "source": [
    "c) y d) Turistas Nacionales e Internacionales"
   ],
   "metadata": {
    "collapsed": false
   }
  },
  {
   "cell_type": "code",
   "execution_count": null,
   "outputs": [],
   "source": [
    "# Diccionario nombre_sitio-(corpora_subgrupo, etiquetas_subgrupo)\n",
    "subgroup_corp_n_tr_dict = manage_tables.get_subgroups_corpora_n_labels(\"Nacional\", \"Nacional ó Internacional\")\n",
    "title_group = \"Turistas nacionales\"\n",
    "\n",
    "subgroup_corp_n_tr_dict_0 = manage_tables.get_subgroups_corpora_n_labels(\"Internacional\", \"Nacional ó Internacional\")\n",
    "title_group_0 = \"Turistas internacionales\"\n",
    "\n",
    "# Cálculo de LSA y derivados para cada sitio\n",
    "for site, (corpus, tr_y) in subgroup_corp_n_tr_dict.items():\n",
    "    # Nacional\n",
    "    print(\"\\n\" + \"-\"*90)\n",
    "    print(\"\\n                          LSA en \"+ str(site.capitalize()) + \" \" + title_group)\n",
    "    n_gram_range = (1,1)\n",
    "    manage_bow = Bow(corpus, tr_y, n_gram_range)\n",
    "    n_topics = 3\n",
    "    print(\"\\n Ejemplos de opiniones descritas por tópicos:\")\n",
    "    manage_bow.calculate_lsa(n_topics, 3)\n",
    "    m_to_show = 10\n",
    "    for i in range(n_topics):\n",
    "        print(\"\\n\" + \"Palabras con mayores pesos para el tópico \"+str(i+1))\n",
    "        manage_bow.sort_n_show_encoding_by_n_topic_m_rows(i+1, m_to_show)\n",
    "    # Internacional\n",
    "    corpus, tr_y = subgroup_corp_n_tr_dict_0[site]\n",
    "    print(\"\\n\" + \"-\"*90)\n",
    "    print(\"\\n                          LSA en \"+ str(site.capitalize()) + \" \" + title_group_0)\n",
    "    n_gram_range = (1,1)\n",
    "    manage_bow = Bow(corpus, tr_y, n_gram_range)\n",
    "    n_topics = 3\n",
    "    print(\"\\n Ejemplos de opiniones descritas por tópicos:\")\n",
    "    manage_bow.calculate_lsa(n_topics, 3)\n",
    "    m_to_show = 10\n",
    "    for i in range(n_topics):\n",
    "        print(\"\\n\" + \"Palabras con mayores pesos para el tópico \"+str(i+1))\n",
    "        manage_bow.sort_n_show_encoding_by_n_topic_m_rows(i+1, m_to_show)"
   ],
   "metadata": {
    "collapsed": false
   }
  },
  {
   "cell_type": "markdown",
   "source": [
    "e) Jóvenes.\n",
    "\n",
    "Se tomó como criterio de juventud la movilidad física. Observando los histogramas del Pipila y la Universidad\n",
    "de Guanajuato de opiniones por edad, notamos un decremento más o menos de 35 a 40. Así que como jóvenes se tomó\n",
    "el rango de 0-35, porque puede que parte del atractivo sea subir caminando.\n",
    "De igual, en el monumento al Pipila hay un decremento algo abrupto entre 55 y 60. Es decir, aunque tienen la\n",
    "posibilidad de subir en teléferico ya no la hacen, quizás también por cuestiones de movilidad. Así que se tomará como\n",
    "población de tercera edad a la mayor a 55 años."
   ],
   "metadata": {
    "collapsed": false
   }
  },
  {
   "cell_type": "code",
   "execution_count": null,
   "outputs": [],
   "source": [
    "# Diccionario nombre_sitio-(corpora_subgrupo, etiquetas_subgrupo)\n",
    "subgroup_corp_n_tr_dict = manage_tables.get_subgroups_corpora_n_labels(\"joven\", \"Etiqueta edad\")\n",
    "\n",
    "title_group = \"Jóvenes\"\n",
    "# Cálculo de LSA y derivados para cada sitio\n",
    "for site, (corpus, tr_y) in subgroup_corp_n_tr_dict.items():\n",
    "    print(\"\\n\" + \"-\"*90)\n",
    "    print(\"\\n                          LSA en \"+ str(site.capitalize()) + \" \" + title_group)\n",
    "    n_gram_range = (1,1)\n",
    "    manage_bow = Bow(corpus, tr_y, n_gram_range)\n",
    "\n",
    "    n_topics = 3\n",
    "    print(\"\\n Ejemplos de opiniones descritas por tópicos:\")\n",
    "    manage_bow.calculate_lsa(n_topics, 3)\n",
    "    m_to_show = 10\n",
    "    for i in range(n_topics):\n",
    "        print(\"\\n\" + \"Palabras con mayores pesos para el tópico \"+str(i+1))\n",
    "        manage_bow.sort_n_show_encoding_by_n_topic_m_rows(i+1, m_to_show)"
   ],
   "metadata": {
    "collapsed": false
   }
  },
  {
   "cell_type": "markdown",
   "source": [
    "f) Mayores.\n",
    "\n",
    "Por lo dicho en el inciso anterior, se tomará como población de tercera edad a la mayor a 55 años."
   ],
   "metadata": {
    "collapsed": false
   }
  },
  {
   "cell_type": "code",
   "execution_count": null,
   "outputs": [],
   "source": [
    "# Diccionario nombre_sitio-(corpora_subgrupo, etiquetas_subgrupo)\n",
    "subgroup_corp_n_tr_dict = manage_tables.get_subgroups_corpora_n_labels(\"viejo\", \"Etiqueta edad\")\n",
    "\n",
    "title_group = \"Tercera edad\"\n",
    "# Cálculo de LSA y derivados para cada sitio\n",
    "for site, (corpus, tr_y) in subgroup_corp_n_tr_dict.items():\n",
    "    print(\"\\n\" + \"-\"*90)\n",
    "    print(\"\\n                          LSA en \"+ str(site.capitalize()) + \" \" + title_group)\n",
    "    n_gram_range = (1,1)\n",
    "    manage_bow = Bow(corpus, tr_y, n_gram_range)\n",
    "\n",
    "    n_topics = 3\n",
    "    print(\"\\n Ejemplos de opiniones descritas por tópicos:\")\n",
    "    manage_bow.calculate_lsa(n_topics, 3)\n",
    "    m_to_show = 10\n",
    "    for i in range(n_topics):\n",
    "        print(\"\\n\" + \"Palabras con mayores pesos para el tópico \"+str(i+1))\n",
    "        manage_bow.sort_n_show_encoding_by_n_topic_m_rows(i+1, m_to_show)\n",
    "\n"
   ],
   "metadata": {
    "collapsed": false
   }
  },
  {
   "cell_type": "markdown",
   "source": [
    "4. Para cada uno de los 10 sitios turísticos, haga una nube de palabras que muestre\n",
    "las palabras más asociadas a sus opiniones negativas utilizando $\\Xi^2(c_i, p_i)$. Puede usar\n",
    "funciones de sklearn o hacerlo tal como en las diapositivas del autor Ricardo Baeza (di-\n",
    "apositivas dónde está lo de información mutua)."
   ],
   "metadata": {
    "collapsed": false
   }
  },
  {
   "cell_type": "code",
   "execution_count": null,
   "outputs": [],
   "source": [
    "def calculate_n_ip(vocab:list, corpora_p:list):\n",
    "    \"\"\"\n",
    "    Calcula el número n_ip: de documentos en que cada término i aparece en la clase p\n",
    "\n",
    "    :param vocab: feature_names\n",
    "    :param corpora_p: textos de entrenamiento de la clase p\n",
    "    :return: vector con valores n_ip, donde n_ip del término i está en el índice = columna\n",
    "    del diccionario dict_indices\n",
    "    \"\"\"\n",
    "\n",
    "    n_ip_vector = np.zeros(len(vocab))\n",
    "\n",
    "    for doc in corpora_p:\n",
    "        set_doc = set(doc.split(\" \"))\n",
    "        for word in set_doc:\n",
    "            if word in vocab:\n",
    "                word_idx = vocab.index(word)\n",
    "                n_ip_vector[word_idx] += 1\n",
    "\n",
    "    return n_ip_vector\n",
    "\n",
    "\n",
    "def get_most_important_features_class_0(vocab, n_rank, tr_0, tr_1)->dict:\n",
    "\n",
    "    n_i0 = np.array(calculate_n_ip(vocab, tr_0))\n",
    "\n",
    "    n_i1 = np.array(calculate_n_ip(vocab, tr_1))\n",
    "\n",
    "    n_i = n_i0 + n_i1\n",
    "\n",
    "    N_t = len(tr_0) + len(tr_1)\n",
    "\n",
    "    n_0 = len(tr_0)\n",
    "\n",
    "    # Métrica Chi^2 clase 0\n",
    "    chi_0_num = N_t * (N_t * n_i0 - n_0 * n_i) ** 2\n",
    "    chi_0_denum = n_0 * n_i * (N_t - n_0) * (N_t - n_i)\n",
    "    scores = chi_0_num / chi_0_denum\n",
    "\n",
    "    # Ranking\n",
    "    word_score_dict = dict()\n",
    "    min_info = np.min(scores)\n",
    "\n",
    "    for n in range(n_rank):\n",
    "        i = np.unravel_index(np.argmax(scores, axis=None), scores.shape)\n",
    "        word_score_dict[vocab[i[0]]] = np.max(scores)\n",
    "        scores[i] = min_info\n",
    "\n",
    "    return word_score_dict\n",
    "\n",
    "def plt_cloud_word(word_score_dict):\n",
    "    wordcloud = WordCloud()\n",
    "    wordcloud.fit_words(word_score_dict)\n",
    "    plt.imshow(wordcloud, interpolation='bilinear')\n",
    "    plt.axis(\"off\")\n",
    "    plt.show()\n",
    "    pass"
   ],
   "metadata": {
    "collapsed": false
   }
  },
  {
   "cell_type": "code",
   "execution_count": null,
   "outputs": [],
   "source": [
    "# # Diccionario nombre_sitio-(corpora, etiquetas)\n",
    "# sites_corporas_n_labels = dict()\n",
    "#\n",
    "# # Diccionario nombre_sitio-bow\n",
    "# manage_bow_sites_dict = dict()\n",
    "#\n",
    "# for site, df in manage_tables.tables_dict.items():\n",
    "#     corpus = list(df[\"Corpus\"])\n",
    "#     labels = list(df[\"Etiqueta\"])\n",
    "#     sites_corporas_n_labels[site] = (corpus, labels)\n",
    "#     manage_bow_sites_dict[site] = Bow(corpus, labels, (1,1))"
   ],
   "metadata": {
    "collapsed": false
   }
  },
  {
   "cell_type": "code",
   "execution_count": null,
   "outputs": [],
   "source": [
    "# Diccionario nombre_sitio-(corpora_clase_0, corpora_clase_1)\n",
    "corpuss = dict()\n",
    "for site, df in manage_tables.tables_dict.items():\n",
    "    corpus_0 = df.loc[df['Etiqueta']=='negativo', \"Corpus\"]\n",
    "    corpus_1 = df.loc[(df['Etiqueta']=='positivo') | (df['Etiqueta']=='neutro'), \"Corpus\"]\n",
    "    corpuss[site] = (corpus_0, corpus_1)"
   ],
   "metadata": {
    "collapsed": false
   }
  },
  {
   "cell_type": "code",
   "execution_count": null,
   "outputs": [],
   "source": [
    "for site, (corpus_0, corpus_1) in corpuss.items():\n",
    "    n_rank = 50\n",
    "    site_capitalize = site.capitalize()\n",
    "    print(\" \")\n",
    "    print(\"-\"*90)\n",
    "    print(\"Nube de top \"+ str(n_rank) + \" palabras en \" + site_capitalize)\n",
    "    print(\" \")\n",
    "    vocab = manage_bow_sites_dict[site].vocab\n",
    "    word_score_dict = get_most_important_features_class_0(vocab, n_rank, corpus_0, corpus_1)\n",
    "    plt_cloud_word(word_score_dict)\n"
   ],
   "metadata": {
    "collapsed": false
   }
  },
  {
   "cell_type": "markdown",
   "source": [
    "5. Para cada uno de los 10 sitios turísticos construya tres Bolsas de Palabras de la siguiente manera:\n"
   ],
   "metadata": {
    "collapsed": false
   }
  },
  {
   "cell_type": "code",
   "execution_count": null,
   "outputs": [],
   "source": [
    "# Cálculo de tfidf para cada palabra\n",
    "def calculate_feature_tfidf(X, y):\n",
    "    return np.sum(X.toarray(), axis=0)\n"
   ],
   "metadata": {
    "collapsed": false
   }
  },
  {
   "cell_type": "markdown",
   "source": [
    "i) 1000 términos con mayor peso tfidf"
   ],
   "metadata": {
    "collapsed": false
   }
  },
  {
   "cell_type": "code",
   "execution_count": null,
   "outputs": [],
   "source": [
    "m = 1000\n",
    "for site, manage_bow in manage_bow_sites_dict.items():\n",
    "    manage_bow.actualize_to_most_important_features(m, calculate_feature_tfidf)\n"
   ],
   "metadata": {
    "collapsed": false
   }
  },
  {
   "cell_type": "markdown",
   "source": [
    "ii) 2000 bigramas con mayor tfidf"
   ],
   "metadata": {
    "collapsed": false
   }
  },
  {
   "cell_type": "code",
   "source": [
    "# Construcción de bolsas de bigramas totales y filtrado de mayor tfidf\n",
    "\n",
    "manage_bow_bigrams_dict = dict()\n",
    "m = 2000\n",
    "n_gram = 2\n",
    "for site, (corpus, labels) in sites_corporas_n_labels.items():\n",
    "    manage_bow = Bow(corpus, labels, n_gram_range=(n_gram,n_gram))\n",
    "    manage_bow.actualize_to_most_important_features(m, calculate_feature_tfidf)\n",
    "    manage_bow_bigrams_dict[site] = manage_bow"
   ],
   "metadata": {
    "collapsed": false
   },
   "execution_count": null,
   "outputs": []
  },
  {
   "cell_type": "markdown",
   "source": [
    "iii) 1000 trigramas con mayor tfidf"
   ],
   "metadata": {
    "collapsed": false
   }
  },
  {
   "cell_type": "code",
   "execution_count": null,
   "outputs": [],
   "source": [
    "# Construcción de bolsas de bigramas totales y filtrado de mayor tfidf\n",
    "\n",
    "manage_bow_trigrams_dict = dict()\n",
    "m = 1000\n",
    "n_gram = 3\n",
    "for site, (corpus, labels) in sites_corporas_n_labels.items():\n",
    "    manage_bow = Bow(corpus, labels, n_gram_range=(n_gram,n_gram))\n",
    "    manage_bow.actualize_to_most_important_features(m, calculate_feature_tfidf)\n",
    "    manage_bow_trigrams_dict[site] = manage_bow"
   ],
   "metadata": {
    "collapsed": false
   }
  },
  {
   "cell_type": "markdown",
   "source": [
    "iv) Finalmente, concatene las tres representaciones que fueron calculadas de forma independiente,\n",
    "con sus propios tfidfs según su espacio y su propio L2. Y sobre todo ese espacio concatenado de 4000\n",
    "características aplique ganancia de información o $\\Xi^2$ y obtenga los 1000 features más relevantes.\n",
    "Muestre una nube de palabras con el top 50 features relevantes para cada lugar turistico."
   ],
   "metadata": {
    "collapsed": false
   }
  },
  {
   "cell_type": "code",
   "execution_count": null,
   "outputs": [],
   "source": [
    "n_feature_select = 1000\n",
    "n_cloud =  50\n",
    "\n",
    "for site, manage_bow in manage_bow_sites_dict.items():\n",
    "\n",
    "    one_bow = manage_bow.bow\n",
    "    two_bow = manage_bow_bigrams_dict[site].bow\n",
    "    tri_bow = manage_bow_trigrams_dict[site].bow\n",
    "\n",
    "    conct_bow = hstack([one_bow, two_bow, tri_bow])\n",
    "\n",
    "    feats = SelectKBest(chi2, k=n_feature_select)\n",
    "    feats.fit(conct_bow, manage_bow.tr_y)\n",
    "    best = feats.get_support(indices=True)\n",
    "    scores = feats.scores_\n",
    "    vocab = manage_bow.vocab + manage_bow_bigrams_dict[site].vocab + manage_bow_trigrams_dict[site].vocab\n",
    "\n",
    "    cap_site = site.capitalize()\n",
    "\n",
    "    print(\" \")\n",
    "    print(\"-\"*90)\n",
    "\n",
    "    print(\"\\n\" +  cap_site + \":\" + str(n_feature_select) + \" features más relevantes \")\n",
    "    word_score_dict = {vocab[i]:scores[i] for i in best}\n",
    "    plt_cloud_word(word_score_dict)\n",
    "\n",
    "\n",
    "    print(\"\\n\" +  cap_site + \":\" + str(n_cloud) + \" features más relevantes \")\n",
    "    word_score_dict_cloud = {vocab[i]:scores[i] for i in best[0:n_cloud]}\n",
    "    plt_cloud_word(word_score_dict_cloud)\n"
   ],
   "metadata": {
    "collapsed": false
   }
  },
  {
   "cell_type": "markdown",
   "source": [
    "6. Muestre la ocurrencia temporal de las 10 palabras con más ganancia de información\n",
    "de TODO el dataset para cada sitio turístico. Aquí se sugiere usar la gráfica de estilo de\n",
    "los discursos de primer año de los presidentes en USA dada como ejemplo en NLTK. La\n",
    "idea sería tener una gráfica por sitio turístico y la ocurrencia marcada en azul del top 10\n",
    "palabras de con mayor ganancia de información o chi en todo el dataset."
   ],
   "metadata": {
    "collapsed": false
   }
  },
  {
   "cell_type": "code",
   "source": [
    "# Tabla de todos los sitios por fecha\n",
    "\n",
    "joined_table_all_sites = manage_tables.joined_tables\n",
    "\n",
    "joined_table_all_sites = joined_table_all_sites.sort_values(\"Fecha\", ascending=True)"
   ],
   "metadata": {
    "collapsed": false
   },
   "execution_count": null,
   "outputs": []
  },
  {
   "cell_type": "code",
   "execution_count": null,
   "outputs": [],
   "source": [
    "#Corpus y etiquetas\n",
    "\n",
    "ord_corpus_all_sites = joined_table_all_sites[\"Corpus\"]\n",
    "\n",
    "labels_all_sites = joined_table_all_sites[\"Etiqueta\"]"
   ],
   "metadata": {
    "collapsed": false
   }
  },
  {
   "cell_type": "code",
   "execution_count": null,
   "outputs": [],
   "source": [
    "# Cálculo de palabras más relevantes\n",
    "\n",
    "manage_bow = Bow(ord_corpus_all_sites, labels_all_sites, (1,1))\n",
    "\n",
    "m = 10\n",
    "best_idx, words_to_dispersion = manage_bow.get_most_important_features(m)\n",
    "words_to_dispersion = list(words_to_dispersion.keys())"
   ],
   "metadata": {
    "collapsed": false
   }
  },
  {
   "cell_type": "code",
   "execution_count": null,
   "outputs": [],
   "source": [
    "from nltk import Text\n",
    "\n",
    "# Lista de todas las palabras de todos los sitios por orden temporal y etiquetas\n",
    "split_ord_docs = [doc.split() for doc in ord_corpus_all_sites]\n",
    "\n",
    "ord_words = [w for s_d in split_ord_docs for w in s_d]\n",
    "\n",
    "t_words = Text(ord_words)"
   ],
   "metadata": {
    "collapsed": false
   }
  },
  {
   "cell_type": "code",
   "execution_count": null,
   "outputs": [],
   "source": [
    "# Gráfica de dispersión\n",
    "\n",
    "t_words.dispersion_plot(words_to_dispersion)"
   ],
   "metadata": {
    "collapsed": false
   }
  },
  {
   "cell_type": "markdown",
   "source": [
    "7. Diseñe un análisis temporal (formato libre) que muestre opiniones positivas, negativas\n",
    "y neutras a través de los meses y años para todos los sitios turísticos. En pocas\n",
    "palabras mostrar la evolución de las opiniones a través del tiempo."
   ],
   "metadata": {
    "collapsed": false
   }
  },
  {
   "cell_type": "code",
   "execution_count": null,
   "outputs": [],
   "source": [
    "# Tabla de todos los sitios ordenados por fecha\n",
    "\n",
    "joined_table_all_sites = manage_tables.joined_tables\n",
    "\n",
    "joined_table_all_sites = joined_table_all_sites.sort_values(\"Fecha\", ascending=True)\n"
   ],
   "metadata": {
    "collapsed": false
   }
  },
  {
   "cell_type": "code",
   "execution_count": null,
   "outputs": [],
   "source": [
    "#Etiquetas 'positivo', 'neutro', 'negativo' ordenadas por tiempo\n",
    "labels_all_sites = joined_table_all_sites[\"Etiqueta\"]\n",
    "\n",
    "# Lista de todas las palabras de todos los sitios por orden temporal y etiquetas\n",
    "# split_ord_docs = [doc.split() for doc in ord_corpus_all_sites]\n",
    "#\n",
    "# ord_words = [w for s_d in split_ord_docs for w in s_d]\n",
    "\n",
    "t_words = Text(labels_all_sites)\n",
    "\n",
    "# Gráfica de dispersión\n",
    "\n",
    "words_to_dispersion = ['positivo', 'neutro', 'negativo']\n",
    "\n",
    "t_words.dispersion_plot(words_to_dispersion)\n"
   ],
   "metadata": {
    "collapsed": false
   }
  },
  {
   "cell_type": "code",
   "execution_count": null,
   "outputs": [],
   "source": [
    "# Cumulative Independendent Scores\n",
    "def get_cumulative(scores):\n",
    "    dates2plot, scores2plot, cumulative = [], [], 0.\n",
    "    for i in range(len(scores)):\n",
    "        date, _ = scores[i]\n",
    "        cumulative += 1\n",
    "        dates2plot.append(date)\n",
    "        scores2plot.append(np.log10(cumulative))\n",
    "\n",
    "    return dates2plot, scores2plot\n",
    "\n",
    "for site, df in manage_tables.tables_dict.items():\n",
    "    cap_site = site.capitalize()\n",
    "\n",
    "    print(\" \")\n",
    "    print(\"-\"*90)\n",
    "\n",
    "    print(\"\\n\" +  cap_site + \": distribución temporal de tipos de opiniones\" )\n",
    "    df = df.sort_values(\"Fecha\", ascending=True)\n",
    "    dates_pd = df[\"Fecha\"]\n",
    "    scores_pd = df[\"Num. etiqueta\"]\n",
    "\n",
    "    sorted_scores_negative = [\n",
    "        (date, score)\n",
    "        for date, score, date_is_null, score_is_null in zip(dates_pd, scores_pd, dates_pd.isna(), scores_pd.isna())\n",
    "        if (not date_is_null) and (not score_is_null) and (score == -1)\n",
    "    ]\n",
    "\n",
    "    sorted_scores_neutral = [\n",
    "        (date, score)\n",
    "        for date, score, date_is_null, score_is_null in zip(dates_pd, scores_pd, dates_pd.isna(), scores_pd.isna())\n",
    "        if (not date_is_null) and (not score_is_null) and (score == 0)\n",
    "    ]\n",
    "\n",
    "    sorted_scores_positive = [\n",
    "        (date, score)\n",
    "        for date, score, date_is_null, score_is_null in zip(dates_pd, scores_pd, dates_pd.isna(), scores_pd.isna())\n",
    "        if (not date_is_null) and (not score_is_null) and (score == 1)\n",
    "    ]\n",
    "\n",
    "    fig, ax1 = plt.subplots(1, 1)\n",
    "    positive_dates2plot, positive_scores2plot = get_cumulative(sorted_scores_positive)\n",
    "    neutral_dates2plot, neutral_scores2plot = get_cumulative(sorted_scores_neutral)\n",
    "    negative_dates2plot, negative_scores2plot = get_cumulative(sorted_scores_negative)\n",
    "\n",
    "    ax1.set_title('Log-conteo de positivos - negativos')\n",
    "    ax1.set_ylabel('Log-score')\n",
    "    ax1.plot_date(positive_dates2plot, positive_scores2plot, 'g--', alpha=0.5, label='Positivos')\n",
    "    ax1.plot_date(neutral_dates2plot, neutral_scores2plot, 'b--', alpha=0.5, label='Neutrales')\n",
    "    ax1.plot_date(negative_dates2plot, negative_scores2plot, 'r--', alpha=0.5, label='Negativos')\n",
    "    plt.legend(loc='upper left')\n",
    "    plt.show()"
   ],
   "metadata": {
    "collapsed": false
   }
  },
  {
   "cell_type": "markdown",
   "source": [
    "## II. Preguntas\n",
    "\n",
    "Conteste lo más detallado posible lo sigu-\n",
    "iente, dando argumentos y conclusiones claras según su análi-\n",
    "sis. Cada respuesta entre 150 y 300 palabras.\n",
    "\n",
    "En las primeras 5 preguntas se observaron principalmente como criterios para responder los resultados en\n",
    "las estadísticas generales del primer ejercicio y las palabras con mayores pesos de las primeras componetes\n",
    "o tópicos del método de LSA.\n",
    "\n",
    "1. ¿De los sitios turísticos, cual diría usted que es el más polémico y la razón de ello?\n",
    "\n",
    "Pareciera ser el Museo de las Momias. En primer lugar porque tiene la mayor desviación estándar en la escala.\n",
    "Y aunque esa desviación se podría explicar con que sencillamente se tienen más muestras de ese sitio, no es así\n",
    "porque el segundo lugar con mayor cantidad de opiniones es el Jardín Unión y en promedio está calificado como excelente.\n",
    "\n",
    "Además, ya que la longitud de las opiniones entre los lugares calificados como excelentes, pareciera que los\n",
    "comentarios de mayor tamaño pudierán estar ligados a valoraciones bajas o complejas, y ese lugar también tiene mayor\n",
    "longitud promedio y desviación estándar promedio de longitud.\n",
    "\n",
    "Por otro lado el LSA muestra en general palabras descriptivas y positivas en todos los sitios, más algunas excepciones\n",
    "de 1 a 3 palabras en los siguientes sitios: la Alhóndiga, las Momias, el Museo Diego Rivero, el Callejón del Beso\n",
    "y el Pipila, hay algunas palabras negativas como: lleno, corto, small, mucha-gente, subir (con loadings negativos\n",
    "y en contraste con loadings positivos de adjetivos positivos).\n",
    "\n",
    "Además, en la distribución temporal de los sitios, vemos que todos fueron mayomente positivos a lo largo del tiempo,\n",
    "salvo en momias, mercado hidalgo y alhóndiga.\n",
    "En la alhóndiga y en el mercado hidalgo eventualmente las valoraciones negativos y positivos se separaron, pero\n",
    "en el museo de las momias la tendencia parece ser establemente cercanda entre ambos grupos.\n",
    "\n",
    "2. En cuanto al sitio más polémico, ¿Cómo es la diferencia de opinión y temas entre\n",
    "turistas nacionales e internacionales?\n",
    "\n",
    "Primero notemos en el histograma de Lugar de Procedencia del Museo de las Momias que ambas grupos\n",
    "(nacionales e internacionales) están balanceados. Así que en ese sentido, no hay diferencia.\n",
    "Por otro lado en el LSA, notamos que en ambas clases las palabras sulen ser descriptivas y positivas,\n",
    "exceptuando las palabras de la tercera componente o tópico de Internacionales. En ella,\n",
    "se observan palabras positivas-neutras con loadings positivos, y palabras que pueden ser negativas\n",
    "con loadings negativos, como lo son: dead, bodies y people. Esta última palabra, ya que se\n",
    "distingue de adjetivos positivos podría estar relacionada con que hay mucha gente y que eso se valora\n",
    "negativamente.\n",
    "\n",
    "3. ¿Cuál diría que es el sitio que le gusta más a las mujeres y por qué?\n",
    "\n",
    "Por las estadísticas del ejercicio 1 me inclinaría en primer lugar, por el Teatro Juárez, suponiendo\n",
    "que tienen la misma preferencia que el promedio. Y si se quiere ver su distinción respecto a los hombres\n",
    "me inclinaría por la Casa de Diego Rivera.\n",
    "\n",
    "La razón del Teatro Juárez es simplemente que es el sitio con la mayor puntuación promedio. Y para la teoría de\n",
    "casa de Diego Rivera, vista en contraste con los hombres. Notemos  primero que en casi todos los lugares hay menos\n",
    "muestras de mujeres. Esto se puede deber a que tienden a escribir menos opiniones en internet o a que van menos a lugares turísticos, o ambas.\n",
    "Por otro lado, se puede observar que enlos lugares donde los géneros están más equilibrados es en\n",
    "la Casa de Diego Rivera y en el Callejón del Beso. Lo cuál podría indicar que les agrada más ir allí.\n",
    "Sin embargo, lo del Callejón se puede explicar porque se suele ir en pareja, así que quizás en cuestión de gusto\n",
    "prefieran la Casa de Diego Rivera.\n",
    "\n",
    "Por otro lado, el LSA no aporta mucha infomación en este caso ya que todas las palabras en todos los sitios\n",
    "suelen ser positivas o descriptivas. Sin embargo, en se observa que tanto en la Basílica como en el Teatro\n",
    "Juárez son mayormente positicas.\n",
    "\n",
    "Concluyo que el lugar que más les gusta es el Teatro.\n",
    "\n",
    "4. ¿Cuál diría que es el sitio que le gusta más a las personas jóvenes y por qué?\n",
    "\n",
    "Ya que hay pocas opiniones de menores de 20 y por un ejercicio anterios, como rango para el análisis\n",
    "se tomó de 20 a 35. A los lugares que más jóvenes de (20-35) van en contraste conlos adultos es al Mercado, al Callejón y\n",
    "al Jardín, se nota una disminución abrupta y se ve más o menos horizontal hacia la izquierda.\n",
    "El LSA es muy similar al de las mujeres. Para el JArdín Unión se notan sólo palabras positivas\n",
    "así que me inclinaría por el Jardín Unión, o igual que el promedio, considerando\n",
    "que son la mayoría, es decir por el Tatro Juaŕez.\n",
    "\n",
    "6. ¿Qué otras observaciones valiosas puede obtener de su análisis? (e.g., ¿identificó\n",
    "de que se queja la gente? ¿qué tipo de cosas le gustó a la gente?, etc.)\n",
    "En todos los lugares hay más jóvenes (internet).\n",
    "En los primero años hay menos opiniones (internet).\n",
    "Juarez, Univ, y Jardín obtuvieron excelentes y son relativamente cercanos.\n",
    "\n",
    "En la selección de características relevantes de cada sitio con Bow TFIDF.\n",
    "Se puede observar que como los adjetivos negativos son más útiles para dicriminar que los positivos.\n",
    "Eso se puede explicar teniendo en cuenta que quizás en los comentarios neutros o negativos pueden a aparecer adejtivos positivos\n",
    "en como \"aunque es bonita\", \"pero es interesante\", pero en los comentarios positivos (con calificaciones usuales\n",
    "de excelente o muy bueno) es inusual que aparezcan adjetivos negativos.\n",
    "\n",
    "LSA hace distinción entre inglés y español, usualmente pertenecen a tópicos distintos.\n",
    "Sin embargo no hace gran distinción entre palabras positivas y negativas, eso puede explicarse porque es\n",
    "un algoritmo no supervisado, pero aún así, debido a que estamos haciendo análisis a nivel de palabra\n",
    "está distinguiendo entre los dos grandes grupos de inglés y español.\n",
    "\n",
    "Es extraño ver como un feature relevate a la palabra momias, aunque es sumamente común y se está realizando pesado\n",
    "TFIDF, se puede explicar considerando lo que observamos antriormente sobre los adejtivos negativos\n",
    " (que son relevantes para la discriminación) y si los comentarios acerca de ellas suelen se negativos.\n",
    "\n"
   ],
   "metadata": {
    "collapsed": false
   }
  }
 ],
 "metadata": {
  "kernelspec": {
   "name": "pln",
   "language": "python",
   "display_name": "pln"
  },
  "language_info": {
   "codemirror_mode": {
    "name": "ipython",
    "version": 2
   },
   "file_extension": ".py",
   "mimetype": "text/x-python",
   "name": "python",
   "nbconvert_exporter": "python",
   "pygments_lexer": "ipython2",
   "version": "2.7.6"
  }
 },
 "nbformat": 4,
 "nbformat_minor": 0
}
